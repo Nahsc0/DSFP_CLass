{
 "cells": [
  {
   "cell_type": "code",
   "execution_count": 1,
   "id": "c67f096a",
   "metadata": {},
   "outputs": [
    {
     "name": "stdout",
     "output_type": "stream",
     "text": [
      "I love Python\n"
     ]
    }
   ],
   "source": [
    "print(\"I love Python\")"
   ]
  },
  {
   "cell_type": "code",
   "execution_count": 2,
   "id": "0b5b87c9",
   "metadata": {},
   "outputs": [
    {
     "data": {
      "text/plain": [
       "4"
      ]
     },
     "execution_count": 2,
     "metadata": {},
     "output_type": "execute_result"
    }
   ],
   "source": [
    "2 + 2 "
   ]
  },
  {
   "cell_type": "code",
   "execution_count": 3,
   "id": "9b1f4951",
   "metadata": {},
   "outputs": [],
   "source": [
    "age = 27\n",
    "\n",
    "height = 1.87\n",
    "\n",
    "name = \"Yusuf Nasir Ahmad\""
   ]
  },
  {
   "cell_type": "code",
   "execution_count": 4,
   "id": "391f97c2",
   "metadata": {},
   "outputs": [
    {
     "data": {
      "text/plain": [
       "'The average of 2, 7, 4, is: 4.333333333333333'"
      ]
     },
     "execution_count": 4,
     "metadata": {},
     "output_type": "execute_result"
    }
   ],
   "source": [
    "num1 = 2\n",
    "\n",
    "num2 = 7\n",
    "\n",
    "num3 = 4\n",
    "\n",
    "\n",
    "mean = (num1 + num2 + num3) / 3\n",
    "\n",
    "\"The average of {}, {}, {}, is: {}\".format(num1, num2, num3, mean)"
   ]
  },
  {
   "cell_type": "code",
   "execution_count": 5,
   "id": "65b4a33a",
   "metadata": {},
   "outputs": [
    {
     "name": "stdout",
     "output_type": "stream",
     "text": [
      "3.11.5 | packaged by Anaconda, Inc. | (main, Sep 11 2023, 13:26:23) [MSC v.1916 64 bit (AMD64)]\n",
      "Help on built-in function print in module builtins:\n",
      "\n",
      "print(*args, sep=' ', end='\\n', file=None, flush=False)\n",
      "    Prints the values to a stream, or to sys.stdout by default.\n",
      "    \n",
      "    sep\n",
      "      string inserted between values, default a space.\n",
      "    end\n",
      "      string appended after the last value, default a newline.\n",
      "    file\n",
      "      a file-like object (stream); defaults to the current sys.stdout.\n",
      "    flush\n",
      "      whether to forcibly flush the stream.\n",
      "\n"
     ]
    }
   ],
   "source": [
    "import sys\n",
    "print(sys.version)\n",
    "\n",
    "name = \"Yusuf\"\n",
    "\n",
    "dir(name)\n",
    "\n",
    "help(print)"
   ]
  },
  {
   "cell_type": "code",
   "execution_count": 6,
   "id": "2469cf46",
   "metadata": {},
   "outputs": [
    {
     "name": "stdout",
     "output_type": "stream",
     "text": [
      "Help on built-in module sys:\n",
      "\n",
      "NAME\n",
      "    sys\n",
      "\n",
      "MODULE REFERENCE\n",
      "    https://docs.python.org/3.11/library/sys.html\n",
      "    \n",
      "    The following documentation is automatically generated from the Python\n",
      "    source files.  It may be incomplete, incorrect or include features that\n",
      "    are considered implementation detail and may vary between Python\n",
      "    implementations.  When in doubt, consult the module reference at the\n",
      "    location listed above.\n",
      "\n",
      "DESCRIPTION\n",
      "    This module provides access to some objects used or maintained by the\n",
      "    interpreter and to functions that interact strongly with the interpreter.\n",
      "    \n",
      "    Dynamic objects:\n",
      "    \n",
      "    argv -- command line arguments; argv[0] is the script pathname if known\n",
      "    path -- module search path; path[0] is the script directory, else ''\n",
      "    modules -- dictionary of loaded modules\n",
      "    \n",
      "    displayhook -- called to show results in an interactive session\n",
      "    excepthook -- called to handle any uncaught exception other than SystemExit\n",
      "      To customize printing in an interactive session or to install a custom\n",
      "      top-level exception handler, assign other functions to replace these.\n",
      "    \n",
      "    stdin -- standard input file object; used by input()\n",
      "    stdout -- standard output file object; used by print()\n",
      "    stderr -- standard error object; used for error messages\n",
      "      By assigning other file objects (or objects that behave like files)\n",
      "      to these, it is possible to redirect all of the interpreter's I/O.\n",
      "    \n",
      "    last_type -- type of last uncaught exception\n",
      "    last_value -- value of last uncaught exception\n",
      "    last_traceback -- traceback of last uncaught exception\n",
      "      These three are only available in an interactive session after a\n",
      "      traceback has been printed.\n",
      "    \n",
      "    Static objects:\n",
      "    \n",
      "    builtin_module_names -- tuple of module names built into this interpreter\n",
      "    copyright -- copyright notice pertaining to this interpreter\n",
      "    exec_prefix -- prefix used to find the machine-specific Python library\n",
      "    executable -- absolute path of the executable binary of the Python interpreter\n",
      "    float_info -- a named tuple with information about the float implementation.\n",
      "    float_repr_style -- string indicating the style of repr() output for floats\n",
      "    hash_info -- a named tuple with information about the hash algorithm.\n",
      "    hexversion -- version information encoded as a single integer\n",
      "    implementation -- Python implementation information.\n",
      "    int_info -- a named tuple with information about the int implementation.\n",
      "    maxsize -- the largest supported length of containers.\n",
      "    maxunicode -- the value of the largest Unicode code point\n",
      "    platform -- platform identifier\n",
      "    prefix -- prefix used to find the Python library\n",
      "    thread_info -- a named tuple with information about the thread implementation.\n",
      "    version -- the version of this interpreter as a string\n",
      "    version_info -- version information as a named tuple\n",
      "    dllhandle -- [Windows only] integer handle of the Python DLL\n",
      "    winver -- [Windows only] version number of the Python DLL\n",
      "    _enablelegacywindowsfsencoding -- [Windows only]\n",
      "    __stdin__ -- the original stdin; don't touch!\n",
      "    __stdout__ -- the original stdout; don't touch!\n",
      "    __stderr__ -- the original stderr; don't touch!\n",
      "    __displayhook__ -- the original displayhook; don't touch!\n",
      "    __excepthook__ -- the original excepthook; don't touch!\n",
      "    \n",
      "    Functions:\n",
      "    \n",
      "    displayhook() -- print an object to the screen, and save it in builtins._\n",
      "    excepthook() -- print an exception and its traceback to sys.stderr\n",
      "    exception() -- return the current thread's active exception\n",
      "    exc_info() -- return information about the current thread's active exception\n",
      "    exit() -- exit the interpreter by raising SystemExit\n",
      "    getdlopenflags() -- returns flags to be used for dlopen() calls\n",
      "    getprofile() -- get the global profiling function\n",
      "    getrefcount() -- return the reference count for an object (plus one :-)\n",
      "    getrecursionlimit() -- return the max recursion depth for the interpreter\n",
      "    getsizeof() -- return the size of an object in bytes\n",
      "    gettrace() -- get the global debug tracing function\n",
      "    setdlopenflags() -- set the flags to be used for dlopen() calls\n",
      "    setprofile() -- set the global profiling function\n",
      "    setrecursionlimit() -- set the max recursion depth for the interpreter\n",
      "    settrace() -- set the global debug tracing function\n",
      "\n",
      "FUNCTIONS\n",
      "    __breakpointhook__ = breakpointhook(...)\n",
      "        breakpointhook(*args, **kws)\n",
      "        \n",
      "        This hook function is called by built-in breakpoint().\n",
      "    \n",
      "    __displayhook__ = displayhook(object, /)\n",
      "        Print an object to sys.stdout and also save it in builtins._\n",
      "    \n",
      "    __excepthook__ = excepthook(exctype, value, traceback, /)\n",
      "        Handle an exception by displaying it with a traceback on sys.stderr.\n",
      "    \n",
      "    __unraisablehook__ = unraisablehook(unraisable, /)\n",
      "        Handle an unraisable exception.\n",
      "        \n",
      "        The unraisable argument has the following attributes:\n",
      "        \n",
      "        * exc_type: Exception type.\n",
      "        * exc_value: Exception value, can be None.\n",
      "        * exc_traceback: Exception traceback, can be None.\n",
      "        * err_msg: Error message, can be None.\n",
      "        * object: Object causing the exception, can be None.\n",
      "    \n",
      "    addaudithook(hook)\n",
      "        Adds a new audit hook callback.\n",
      "    \n",
      "    audit(...)\n",
      "        audit(event, *args)\n",
      "        \n",
      "        Passes the event to any audit hooks that are attached.\n",
      "    \n",
      "    call_tracing(func, args, /)\n",
      "        Call func(*args), while tracing is enabled.\n",
      "        \n",
      "        The tracing state is saved, and restored afterwards.  This is intended\n",
      "        to be called from a debugger from a checkpoint, to recursively debug\n",
      "        some other code.\n",
      "    \n",
      "    exc_info()\n",
      "        Return current exception information: (type, value, traceback).\n",
      "        \n",
      "        Return information about the most recent exception caught by an except\n",
      "        clause in the current stack frame or in an older stack frame.\n",
      "    \n",
      "    exception()\n",
      "        Return the current exception.\n",
      "        \n",
      "        Return the most recent exception caught by an except clause\n",
      "        in the current stack frame or in an older stack frame, or None\n",
      "        if no such exception exists.\n",
      "    \n",
      "    exit(status=None, /)\n",
      "        Exit the interpreter by raising SystemExit(status).\n",
      "        \n",
      "        If the status is omitted or None, it defaults to zero (i.e., success).\n",
      "        If the status is an integer, it will be used as the system exit status.\n",
      "        If it is another kind of object, it will be printed and the system\n",
      "        exit status will be one (i.e., failure).\n",
      "    \n",
      "    get_asyncgen_hooks()\n",
      "        Return the installed asynchronous generators hooks.\n",
      "        \n",
      "        This returns a namedtuple of the form (firstiter, finalizer).\n",
      "    \n",
      "    get_coroutine_origin_tracking_depth()\n",
      "        Check status of origin tracking for coroutine objects in this thread.\n",
      "    \n",
      "    get_int_max_str_digits()\n",
      "        Return the maximum string digits limit for non-binary int<->str conversions.\n",
      "    \n",
      "    getallocatedblocks()\n",
      "        Return the number of memory blocks currently allocated.\n",
      "    \n",
      "    getdefaultencoding()\n",
      "        Return the current default encoding used by the Unicode implementation.\n",
      "    \n",
      "    getfilesystemencodeerrors()\n",
      "        Return the error mode used Unicode to OS filename conversion.\n",
      "    \n",
      "    getfilesystemencoding()\n",
      "        Return the encoding used to convert Unicode filenames to OS filenames.\n",
      "    \n",
      "    getprofile()\n",
      "        Return the profiling function set with sys.setprofile.\n",
      "        \n",
      "        See the profiler chapter in the library manual.\n",
      "    \n",
      "    getrecursionlimit()\n",
      "        Return the current value of the recursion limit.\n",
      "        \n",
      "        The recursion limit is the maximum depth of the Python interpreter\n",
      "        stack.  This limit prevents infinite recursion from causing an overflow\n",
      "        of the C stack and crashing Python.\n",
      "    \n",
      "    getrefcount(object, /)\n",
      "        Return the reference count of object.\n",
      "        \n",
      "        The count returned is generally one higher than you might expect,\n",
      "        because it includes the (temporary) reference as an argument to\n",
      "        getrefcount().\n",
      "    \n",
      "    getsizeof(...)\n",
      "        getsizeof(object [, default]) -> int\n",
      "        \n",
      "        Return the size of object in bytes.\n",
      "    \n",
      "    getswitchinterval()\n",
      "        Return the current thread switch interval; see sys.setswitchinterval().\n",
      "    \n",
      "    gettrace()\n",
      "        Return the global debug tracing function set with sys.settrace.\n",
      "        \n",
      "        See the debugger chapter in the library manual.\n",
      "    \n",
      "    getwindowsversion()\n",
      "        Return info about the running version of Windows as a named tuple.\n",
      "        \n",
      "        The members are named: major, minor, build, platform, service_pack,\n",
      "        service_pack_major, service_pack_minor, suite_mask, product_type and\n",
      "        platform_version. For backward compatibility, only the first 5 items\n",
      "        are available by indexing. All elements are numbers, except\n",
      "        service_pack and platform_type which are strings, and platform_version\n",
      "        which is a 3-tuple. Platform is always 2. Product_type may be 1 for a\n",
      "        workstation, 2 for a domain controller, 3 for a server.\n",
      "        Platform_version is a 3-tuple containing a version number that is\n",
      "        intended for identifying the OS rather than feature detection.\n",
      "    \n",
      "    intern(string, /)\n",
      "        ``Intern'' the given string.\n",
      "        \n",
      "        This enters the string in the (global) table of interned strings whose\n",
      "        purpose is to speed up dictionary lookups. Return the string itself or\n",
      "        the previously interned string object with the same value.\n",
      "    \n",
      "    is_finalizing()\n",
      "        Return True if Python is exiting.\n",
      "    \n",
      "    set_asyncgen_hooks(...)\n",
      "        set_asyncgen_hooks(* [, firstiter] [, finalizer])\n",
      "        \n",
      "        Set a finalizer for async generators objects.\n",
      "    \n",
      "    set_coroutine_origin_tracking_depth(depth)\n",
      "        Enable or disable origin tracking for coroutine objects in this thread.\n",
      "        \n",
      "        Coroutine objects will track 'depth' frames of traceback information\n",
      "        about where they came from, available in their cr_origin attribute.\n",
      "        \n",
      "        Set a depth of 0 to disable.\n",
      "    \n",
      "    set_int_max_str_digits(maxdigits)\n",
      "        Set the maximum string digits limit for non-binary int<->str conversions.\n",
      "    \n",
      "    setprofile(...)\n",
      "        setprofile(function)\n",
      "        \n",
      "        Set the profiling function.  It will be called on each function call\n",
      "        and return.  See the profiler chapter in the library manual.\n",
      "    \n",
      "    setrecursionlimit(limit, /)\n",
      "        Set the maximum depth of the Python interpreter stack to n.\n",
      "        \n",
      "        This limit prevents infinite recursion from causing an overflow of the C\n",
      "        stack and crashing Python.  The highest possible limit is platform-\n",
      "        dependent.\n",
      "    \n",
      "    setswitchinterval(interval, /)\n",
      "        Set the ideal thread switching delay inside the Python interpreter.\n",
      "        \n",
      "        The actual frequency of switching threads can be lower if the\n",
      "        interpreter executes long sequences of uninterruptible code\n",
      "        (this is implementation-specific and workload-dependent).\n",
      "        \n",
      "        The parameter must represent the desired switching delay in seconds\n",
      "        A typical value is 0.005 (5 milliseconds).\n",
      "    \n",
      "    settrace(...)\n",
      "        settrace(function)\n",
      "        \n",
      "        Set the global debug tracing function.  It will be called on each\n",
      "        function call.  See the debugger chapter in the library manual.\n",
      "    \n",
      "    unraisablehook(unraisable, /)\n",
      "        Handle an unraisable exception.\n",
      "        \n",
      "        The unraisable argument has the following attributes:\n",
      "        \n",
      "        * exc_type: Exception type.\n",
      "        * exc_value: Exception value, can be None.\n",
      "        * exc_traceback: Exception traceback, can be None.\n",
      "        * err_msg: Error message, can be None.\n",
      "        * object: Object causing the exception, can be None.\n",
      "\n",
      "DATA\n",
      "    __stderr__ = <_io.TextIOWrapper name='<stderr>' mode='w' encoding='utf...\n",
      "    __stdin__ = <_io.TextIOWrapper name='<stdin>' mode='r' encoding='cp125...\n",
      "    __stdout__ = <_io.TextIOWrapper name='<stdout>' mode='w' encoding='utf...\n",
      "    api_version = 1013\n",
      "    argv = [r'C:\\Users\\Yusuf Nasir\\anaconda3\\Lib\\site-packages\\ipykernel_l...\n",
      "    base_exec_prefix = r'C:\\Users\\Yusuf Nasir\\anaconda3'\n",
      "    base_prefix = r'C:\\Users\\Yusuf Nasir\\anaconda3'\n",
      "    builtin_module_names = ('_abc', '_ast', '_bisect', '_blake2', '_codecs...\n",
      "    byteorder = 'little'\n",
      "    copyright = 'Copyright (c) 2001-2023 Python Software Foundati...ematis...\n",
      "    displayhook = <ipykernel.displayhook.ZMQShellDisplayHook object>\n",
      "    dllhandle = 140718578270208\n",
      "    dont_write_bytecode = False\n",
      "    exec_prefix = r'C:\\Users\\Yusuf Nasir\\anaconda3'\n",
      "    executable = r'C:\\Users\\Yusuf Nasir\\anaconda3\\python.exe'\n",
      "    flags = sys.flags(debug=0, inspect=0, interactive=0, opt...coding=0, s...\n",
      "    float_info = sys.float_info(max=1.7976931348623157e+308, max_...epsilo...\n",
      "    float_repr_style = 'short'\n",
      "    hash_info = sys.hash_info(width=64, modulus=2305843009213693...iphash1...\n",
      "    hexversion = 51054064\n",
      "    implementation = namespace(name='cpython', cache_tag='cpython-311...as...\n",
      "    int_info = sys.int_info(bits_per_digit=30, sizeof_digit=4, ..._str_dig...\n",
      "    maxsize = 9223372036854775807\n",
      "    maxunicode = 1114111\n",
      "    meta_path = [<_distutils_hack.DistutilsMetaFinder object>, <class '_fr...\n",
      "    modules = {'IPython': <module 'IPython' from 'C:\\\\Users\\\\Yusuf Nasir\\\\...\n",
      "    orig_argv = [r'C:\\Users\\Yusuf Nasir\\anaconda3\\python.exe', '-m', 'ipyk...\n",
      "    path = [r'C:\\Users\\Yusuf Nasir\\OneDrive\\Desktop\\Python', r'C:\\Users\\Yu...\n",
      "    path_hooks = [<class 'zipimport.zipimporter'>, <function FileFinder.pa...\n",
      "    path_importer_cache = {r'C:\\Users\\Yusuf Nasir\\OneDrive\\Desktop\\Python'...\n",
      "    platform = 'win32'\n",
      "    platlibdir = 'DLLs'\n",
      "    prefix = r'C:\\Users\\Yusuf Nasir\\anaconda3'\n",
      "    ps1 = 'In : '\n",
      "    ps2 = '...: '\n",
      "    ps3 = 'Out: '\n",
      "    pycache_prefix = None\n",
      "    stderr = <ipykernel.iostream.OutStream object>\n",
      "    stdin = <_io.TextIOWrapper name='<stdin>' mode='r' encoding='cp1252'>\n",
      "    stdlib_module_names = frozenset({'__future__', '_abc', '_aix_support',...\n",
      "    stdout = <ipykernel.iostream.OutStream object>\n",
      "    thread_info = sys.thread_info(name='nt', lock=None, version=None)\n",
      "    version = '3.11.5 | packaged by Anaconda, Inc. | (main, Sep 11 2023, 1...\n",
      "    version_info = sys.version_info(major=3, minor=11, micro=5, releaselev...\n",
      "    warnoptions = []\n",
      "    winver = '3.11'\n",
      "\n",
      "FILE\n",
      "    (built-in)\n",
      "\n",
      "\n"
     ]
    }
   ],
   "source": [
    "help(sys)"
   ]
  },
  {
   "cell_type": "markdown",
   "id": "a8f1b699",
   "metadata": {},
   "source": [
    "# Write a Python Code That Takes inputs of Two Numbers and Return The Product"
   ]
  },
  {
   "cell_type": "code",
   "execution_count": 7,
   "id": "14ca09c9",
   "metadata": {},
   "outputs": [
    {
     "name": "stdout",
     "output_type": "stream",
     "text": [
      " Enter Price of comodity: 45\n",
      "Enter Quantity of commodity: 23\n",
      " the product of 45 and 23 is 1035.\n"
     ]
    }
   ],
   "source": [
    "price = int(input(\" Enter Price of comodity: \"))\n",
    "quantity = int(input(\"Enter Quantity of commodity: \"))\n",
    "\n",
    "product = price * quantity\n",
    "\n",
    "print(f\" the product of {price} and {quantity} is {product}.\")"
   ]
  },
  {
   "cell_type": "code",
   "execution_count": 8,
   "id": "4234f7b9",
   "metadata": {},
   "outputs": [
    {
     "name": "stdout",
     "output_type": "stream",
     "text": [
      "9\n"
     ]
    }
   ],
   "source": [
    "x = 3 + 3 * 2\n",
    "print(x)"
   ]
  },
  {
   "cell_type": "code",
   "execution_count": null,
   "id": "2f50f43a",
   "metadata": {},
   "outputs": [],
   "source": [
    "y = (3 + 2) * 2\n",
    "print (y)"
   ]
  },
  {
   "cell_type": "markdown",
   "id": "0ad62aff",
   "metadata": {},
   "source": [
    "# Using Slice, slecet the 3rd to 7th element\n",
    "\n",
    "# Selecet every 4th element\n",
    "\n",
    "# Find the sum of all the elements"
   ]
  },
  {
   "cell_type": "code",
   "execution_count": 10,
   "id": "7acfa2b5",
   "metadata": {},
   "outputs": [
    {
     "data": {
      "text/plain": [
       "67"
      ]
     },
     "execution_count": 10,
     "metadata": {},
     "output_type": "execute_result"
    }
   ],
   "source": [
    "ages = [23, 45, 67, 12, 34, 12, 34, 12, 76, 50, 23]\n",
    "#        0  1   2   3   4   5   6   7   8   9  10\n",
    "\n",
    "ages[2]"
   ]
  },
  {
   "cell_type": "code",
   "execution_count": 11,
   "id": "1770ec2b",
   "metadata": {},
   "outputs": [
    {
     "data": {
      "text/plain": [
       "[67, 12, 34, 12, 34, 12]"
      ]
     },
     "execution_count": 11,
     "metadata": {},
     "output_type": "execute_result"
    }
   ],
   "source": [
    "ages[2:8]"
   ]
  },
  {
   "cell_type": "code",
   "execution_count": 12,
   "id": "5da32599",
   "metadata": {},
   "outputs": [
    {
     "data": {
      "text/plain": [
       "12"
      ]
     },
     "execution_count": 12,
     "metadata": {},
     "output_type": "execute_result"
    }
   ],
   "source": [
    "ages[5]"
   ]
  },
  {
   "cell_type": "code",
   "execution_count": 13,
   "id": "b884d3ab",
   "metadata": {},
   "outputs": [
    {
     "data": {
      "text/plain": [
       "388"
      ]
     },
     "execution_count": 13,
     "metadata": {},
     "output_type": "execute_result"
    }
   ],
   "source": [
    "sum(ages)"
   ]
  },
  {
   "cell_type": "code",
   "execution_count": 14,
   "id": "ca82cb48",
   "metadata": {
    "scrolled": true
   },
   "outputs": [
    {
     "name": "stdout",
     "output_type": "stream",
     "text": [
      "388\n"
     ]
    }
   ],
   "source": [
    "sum_of_ages = 0\n",
    "for age in ages:\n",
    "    sum_of_ages = sum_of_ages + age\n",
    "print(sum_of_ages)"
   ]
  },
  {
   "cell_type": "code",
   "execution_count": 15,
   "id": "6f7b3913",
   "metadata": {},
   "outputs": [
    {
     "data": {
      "text/plain": [
       "[12, 12, 12]"
      ]
     },
     "execution_count": 15,
     "metadata": {},
     "output_type": "execute_result"
    }
   ],
   "source": [
    "new_ages = []\n",
    "for age in ages:\n",
    "    if age < 20:\n",
    "        new_ages.append(age)\n",
    "new_ages"
   ]
  },
  {
   "cell_type": "code",
   "execution_count": null,
   "id": "a5e09b84",
   "metadata": {},
   "outputs": [],
   "source": []
  },
  {
   "cell_type": "code",
   "execution_count": 16,
   "id": "6524f8df",
   "metadata": {},
   "outputs": [
    {
     "data": {
      "text/plain": [
       "-1"
      ]
     },
     "execution_count": 16,
     "metadata": {},
     "output_type": "execute_result"
    }
   ],
   "source": [
    "name2 = \"Yusuf Nasir Ahmadu\"\n",
    "\n",
    "name2.find('z')"
   ]
  },
  {
   "cell_type": "code",
   "execution_count": 17,
   "id": "daee57bc",
   "metadata": {},
   "outputs": [
    {
     "data": {
      "text/plain": [
       "['I', 'love', 'my', 'mum']"
      ]
     },
     "execution_count": 17,
     "metadata": {},
     "output_type": "execute_result"
    }
   ],
   "source": [
    "\"I,love,my,mum\".split(\",\")"
   ]
  },
  {
   "cell_type": "code",
   "execution_count": 18,
   "id": "6d48c6ae",
   "metadata": {},
   "outputs": [
    {
     "data": {
      "text/plain": [
       "'nohtyP'"
      ]
     },
     "execution_count": 18,
     "metadata": {},
     "output_type": "execute_result"
    }
   ],
   "source": [
    "\"Python\"[::-1]"
   ]
  },
  {
   "cell_type": "code",
   "execution_count": 19,
   "id": "bdb6e502",
   "metadata": {},
   "outputs": [],
   "source": [
    "import pandas as pd\n",
    "import numpy as np\n",
    "import seaborn as sns\n",
    "import matplotlib as plt"
   ]
  },
  {
   "cell_type": "code",
   "execution_count": 20,
   "id": "4778726b",
   "metadata": {},
   "outputs": [
    {
     "name": "stdout",
     "output_type": "stream",
     "text": [
      "N\n",
      "a\n",
      "s\n",
      "c\n",
      "o\n"
     ]
    }
   ],
   "source": [
    "for character in \"Nasco\":\n",
    "    print(character)"
   ]
  },
  {
   "cell_type": "code",
   "execution_count": 21,
   "id": "d983c188",
   "metadata": {},
   "outputs": [
    {
     "name": "stdout",
     "output_type": "stream",
     "text": [
      "388\n"
     ]
    }
   ],
   "source": [
    "sum_of_ages = 0\n",
    "for age in ages:\n",
    "    sum_of_ages = sum_of_ages + age\n",
    "print(sum_of_ages)"
   ]
  },
  {
   "cell_type": "code",
   "execution_count": 22,
   "id": "48926b13",
   "metadata": {},
   "outputs": [
    {
     "name": "stdout",
     "output_type": "stream",
     "text": [
      " What is your full name: ?Yusuf Nasir Ahmad\n"
     ]
    },
    {
     "data": {
      "text/plain": [
       "'damhA risaN fusuY'"
      ]
     },
     "execution_count": 22,
     "metadata": {},
     "output_type": "execute_result"
    }
   ],
   "source": [
    "your_name = str(input(\" What is your full name: ?\"))\n",
    "your_name[::-1]"
   ]
  },
  {
   "cell_type": "code",
   "execution_count": 23,
   "id": "bfc50815",
   "metadata": {},
   "outputs": [
    {
     "name": "stdout",
     "output_type": "stream",
     "text": [
      "[1, 1, 2, 3, 5, 8, 13, 21, 34]\n"
     ]
    }
   ],
   "source": [
    "# Initialize the first two terms of the Fibonacci series\n",
    "a = 0\n",
    "b = 1\n",
    "\n",
    "# Create a list to store the Fibonacci series\n",
    "fibonacci_series = []\n",
    "\n",
    "# Iterate until the current term is less than or equal to 50\n",
    "while b <= 50:\n",
    "    # Add the current term to the list\n",
    "    fibonacci_series.append(b)\n",
    "\n",
    "    # Calculate the next term in the Fibonacci series\n",
    "    c = a + b\n",
    "\n",
    "    # Update the first two terms\n",
    "    a = b\n",
    "    b = c\n",
    "\n",
    "# Print the Fibonacci series\n",
    "print(fibonacci_series)"
   ]
  },
  {
   "cell_type": "code",
   "execution_count": 24,
   "id": "c03728aa",
   "metadata": {},
   "outputs": [
    {
     "name": "stdout",
     "output_type": "stream",
     "text": [
      "madam is a palindrome\n"
     ]
    }
   ],
   "source": [
    "def is_palindrome(string):\n",
    "    reversed_string = string[::-1]\n",
    "    return string == reversed_string\n",
    "\n",
    "# Test the function\n",
    "word = \"madam\"\n",
    "if is_palindrome(word):\n",
    "    print(f\"{word} is a palindrome\")\n",
    "else:\n",
    "    print(f\"{word} is not a palindrome\")"
   ]
  },
  {
   "cell_type": "markdown",
   "id": "19ebc730",
   "metadata": {},
   "source": [
    "# Write a Python Program that \"Print the first 10 natural numbers using for loop.\""
   ]
  },
  {
   "cell_type": "code",
   "execution_count": 25,
   "id": "7e4327cd",
   "metadata": {},
   "outputs": [
    {
     "name": "stdout",
     "output_type": "stream",
     "text": [
      "1\n",
      "2\n",
      "3\n",
      "4\n",
      "5\n",
      "6\n",
      "7\n",
      "8\n",
      "9\n",
      "10\n"
     ]
    }
   ],
   "source": [
    "# Using a for loop to iterate through numbers 1 to 10\n",
    "for i in range(1, 11):\n",
    "    print(i)\n"
   ]
  },
  {
   "cell_type": "code",
   "execution_count": 26,
   "id": "4cae3cbf",
   "metadata": {
    "scrolled": true
   },
   "outputs": [
    {
     "name": "stdout",
     "output_type": "stream",
     "text": [
      "1\n",
      "2\n",
      "3\n",
      "4\n",
      "5\n",
      "6\n",
      "7\n",
      "8\n",
      "9\n",
      "10\n",
      "11\n",
      "12\n",
      "13\n",
      "14\n",
      "15\n",
      "16\n",
      "17\n",
      "18\n",
      "19\n",
      "20\n",
      "21\n",
      "22\n",
      "23\n",
      "24\n",
      "25\n",
      "26\n",
      "27\n",
      "28\n",
      "29\n",
      "30\n",
      "31\n",
      "32\n",
      "33\n",
      "34\n",
      "35\n",
      "36\n",
      "37\n",
      "38\n",
      "39\n",
      "40\n",
      "41\n",
      "42\n",
      "43\n",
      "44\n",
      "45\n",
      "46\n",
      "47\n",
      "48\n",
      "49\n"
     ]
    }
   ],
   "source": [
    "for i in range (1, 50):\n",
    "    print(i)"
   ]
  },
  {
   "cell_type": "markdown",
   "id": "a75c208b",
   "metadata": {},
   "source": [
    "# Python program to print all the even numbers within a given range\n"
   ]
  },
  {
   "cell_type": "code",
   "execution_count": 27,
   "id": "beae873e",
   "metadata": {
    "scrolled": true
   },
   "outputs": [
    {
     "name": "stdout",
     "output_type": "stream",
     "text": [
      "Enter the start of the range: 2\n",
      "Enter the end of the range: 11\n",
      "Even numbers between 2 and 11 are:\n",
      "2\n",
      "4\n",
      "6\n",
      "8\n",
      "10\n"
     ]
    }
   ],
   "source": [
    "# Taking input for the range from the user\n",
    "start = int(input(\"Enter the start of the range: \"))\n",
    "end = int(input(\"Enter the end of the range: \"))\n",
    "\n",
    "# Using a for loop to iterate through the range\n",
    "print(f\"Even numbers between {start} and {end} are:\")\n",
    "for num in range(start, end + 1):\n",
    "    if num % 2 == 0:\n",
    "        print(num)\n"
   ]
  },
  {
   "cell_type": "markdown",
   "id": "e2c36ae9",
   "metadata": {},
   "source": [
    "# Printing For Odd Numbers Withing A Given Range"
   ]
  },
  {
   "cell_type": "code",
   "execution_count": 28,
   "id": "dee17a42",
   "metadata": {},
   "outputs": [
    {
     "name": "stdout",
     "output_type": "stream",
     "text": [
      "Enter any rational number here: 17\n",
      "Enter any rational number here as well: 8\n",
      "Even numbers between 17 and 8 are: \n"
     ]
    }
   ],
   "source": [
    "start = int(input(\"Enter any rational number here: \"))\n",
    "end = int(input(\"Enter any rational number here as well: \"))\n",
    "\n",
    "print(f\"Even numbers between {start} and {end} are: \") \n",
    "for num in range (start, end + 1):\n",
    "    if num % 2 != 0:\n",
    "        print(num)"
   ]
  },
  {
   "cell_type": "markdown",
   "id": "a435dabb",
   "metadata": {},
   "source": [
    "# Python program to calculate the sum of all numbers from 1 to a given number"
   ]
  },
  {
   "cell_type": "code",
   "execution_count": 29,
   "id": "9f066afa",
   "metadata": {},
   "outputs": [
    {
     "name": "stdout",
     "output_type": "stream",
     "text": [
      "Enter a number: 3\n",
      "The sum of all numbers from 1 to 3 is: 6\n"
     ]
    }
   ],
   "source": [
    "# Taking input for the upper limit from the user\n",
    "n = int(input(\"Enter a number: \"))\n",
    "\n",
    "# Initializing a variable to store the sum\n",
    "sum_of_numbers = 0\n",
    "\n",
    "# Using a for loop to iterate through numbers 1 to n\n",
    "for i in range(1, n + 1):\n",
    "    sum_of_numbers += i\n",
    "\n",
    "# Printing the sum\n",
    "print(f\"The sum of all numbers from 1 to {n} is: {sum_of_numbers}\")\n"
   ]
  },
  {
   "cell_type": "code",
   "execution_count": 30,
   "id": "f732c641",
   "metadata": {},
   "outputs": [
    {
     "name": "stdout",
     "output_type": "stream",
     "text": [
      "Enter any number of your choice: 4\n",
      "The sum of all numbers from 1 to 4 is: 10\n"
     ]
    }
   ],
   "source": [
    "n = int(input(\"Enter any number of your choice: \"))\n",
    "\n",
    "sum_of_numbers = 0\n",
    "\n",
    "for i in range (1, n + 1):\n",
    "    sum_of_numbers += i\n",
    "print(f\"The sum of all numbers from 1 to {n} is: {sum_of_numbers}\")"
   ]
  },
  {
   "cell_type": "markdown",
   "id": "60fbc82c",
   "metadata": {},
   "source": [
    "# Python program to calculate the sum of all the odd numbers within the given range."
   ]
  },
  {
   "cell_type": "code",
   "execution_count": 31,
   "id": "3de857d1",
   "metadata": {},
   "outputs": [
    {
     "name": "stdout",
     "output_type": "stream",
     "text": [
      "Enter any number here: 3\n",
      "The sum of all odd numbers from 1 to 3 is: 4\n"
     ]
    }
   ],
   "source": [
    "value = int(input(\"Enter any number here: \"))\n",
    "\n",
    "sum_of_odd_numbers = 0\n",
    "\n",
    "for num in range (1, value + 1):\n",
    "    if num % 2 != 0:\n",
    "        sum_of_odd_numbers += num\n",
    "print(f\"The sum of all odd numbers from 1 to {value} is: {sum_of_odd_numbers}\")\n"
   ]
  },
  {
   "cell_type": "markdown",
   "id": "f48d6a5e",
   "metadata": {},
   "source": [
    "# Python Program To Start a Product Table of a Given Number"
   ]
  },
  {
   "cell_type": "code",
   "execution_count": null,
   "id": "cdcf248c",
   "metadata": {},
   "outputs": [],
   "source": [
    "# Python program to print a multiplication table of a given number\n",
    "\n",
    "# Taking input for the number from the user\n",
    "number = int(input(\"Enter a number to generate its multiplication table: \"))\n",
    "\n",
    "# Using a for loop to iterate through the multiplication table\n",
    "print(f\"Multiplication table for {number} is:\")\n",
    "for i in range(1, 11):\n",
    "    result = number * i\n",
    "    print(f\"{number} x {i} = {result}\")\n"
   ]
  },
  {
   "cell_type": "code",
   "execution_count": null,
   "id": "7ccecae0",
   "metadata": {},
   "outputs": [],
   "source": [
    "multiplication = int(input(\"Enter any number: \"))\n",
    "\n",
    "print(f\"The multiplication table for {multiplication} is: \")\n",
    "\n",
    "for i in range(1, 11):\n",
    "    results = multiplication * i\n",
    "    print(f\"{multiplication} x {1} = {results}\")"
   ]
  },
  {
   "cell_type": "markdown",
   "id": "e112bda6",
   "metadata": {},
   "source": [
    "# Python program to display numbers from a list using a for loop."
   ]
  },
  {
   "cell_type": "code",
   "execution_count": null,
   "id": "f806e011",
   "metadata": {},
   "outputs": [],
   "source": [
    "# Python program to display numbers from a list using a for loop\n",
    "\n",
    "# Sample list of numbers\n",
    "prices = [100, 200, 2023, 400, 5000, 600, 7221, 800, 900, 10000]\n",
    "\n",
    "# Using a for loop to iterate through the list\n",
    "print(\"Prices from the list:\")\n",
    "for price in prices:\n",
    "    print(price)\n"
   ]
  },
  {
   "cell_type": "markdown",
   "id": "fd7f5be2",
   "metadata": {},
   "source": [
    "# Example 7: Python program to count the total number of digits in a number."
   ]
  },
  {
   "cell_type": "code",
   "execution_count": null,
   "id": "e4e3318e",
   "metadata": {},
   "outputs": [],
   "source": [
    "number = int(input(\"Enter a number: \"))\n",
    "num_digits = len(str(abs(number)))\n",
    "print(f\"Total number of digits in {number}: {num_digits}\")\n"
   ]
  },
  {
   "cell_type": "markdown",
   "id": "8a067b5f",
   "metadata": {},
   "source": [
    "# Example 8: Python program to check if the given string is a palindrome."
   ]
  },
  {
   "cell_type": "code",
   "execution_count": null,
   "id": "ab61b145",
   "metadata": {},
   "outputs": [],
   "source": [
    "def is_palindrome(s):\n",
    "    s = s.lower()\n",
    "    return s == s[::-1]\n",
    "\n",
    "input_string = input(\"Enter a string: \")\n",
    "if is_palindrome(input_string):\n",
    "    print(\"It is a palindrome.\")\n",
    "else:\n",
    "    print(\"It is not a palindrome.\")\n"
   ]
  },
  {
   "cell_type": "markdown",
   "id": "c7fcac7a",
   "metadata": {},
   "source": [
    "# Example 9: Python program that accepts a word from the user and reverses it."
   ]
  },
  {
   "cell_type": "code",
   "execution_count": null,
   "id": "ebbd4f39",
   "metadata": {},
   "outputs": [],
   "source": [
    "word = input(\"Enter a word: \")\n",
    "reversed_word = word[::-1]\n",
    "print(f\"Reversed word: {reversed_word}\")\n"
   ]
  },
  {
   "cell_type": "markdown",
   "id": "8a29677e",
   "metadata": {},
   "source": [
    "# Example 10: Python program to check if a given number is an Armstrong number."
   ]
  },
  {
   "cell_type": "code",
   "execution_count": null,
   "id": "47e9d446",
   "metadata": {},
   "outputs": [],
   "source": [
    "def is_armstrong_number(num):\n",
    "    order = len(str(num))\n",
    "    temp = num\n",
    "    sum = 0\n",
    "    while temp > 0:\n",
    "        digit = temp % 10\n",
    "        sum += digit ** order\n",
    "        temp //= 10\n",
    "    return num == sum\n",
    "\n",
    "number = int(input(\"Enter a number: \"))\n",
    "if is_armstrong_number(number):\n",
    "    print(f\"{number} is an Armstrong number.\")\n",
    "else:\n",
    "    print(f\"{number} is not an Armstrong number.\")"
   ]
  },
  {
   "cell_type": "markdown",
   "id": "bacd9456",
   "metadata": {},
   "source": [
    "# Example 11: Python program to count the number of even and odd numbers from a series of numbers."
   ]
  },
  {
   "cell_type": "code",
   "execution_count": null,
   "id": "016d2102",
   "metadata": {},
   "outputs": [],
   "source": [
    "numbers = [1, 2, 3, 4, 5, 6, 7, 8, 9, 10]\n",
    "even_count = 0\n",
    "odd_count = 0\n",
    "for num in numbers:\n",
    "    if num % 2 == 0:\n",
    "        even_count += 1\n",
    "    else:\n",
    "        odd_count += 1\n",
    "\n",
    "print(f\"Number of even numbers: {even_count}\")\n",
    "print(f\"Number of odd numbers: {odd_count}\")\n"
   ]
  },
  {
   "cell_type": "markdown",
   "id": "1151af3f",
   "metadata": {},
   "source": [
    "# Example 12: Python program to display all numbers within a range except the prime numbers."
   ]
  },
  {
   "cell_type": "code",
   "execution_count": null,
   "id": "7fb00682",
   "metadata": {},
   "outputs": [],
   "source": [
    "# Example 12\n",
    "def is_prime(num):\n",
    "    if num < 2:\n",
    "        return False\n",
    "    for i in range(2, int(num**0.5) + 1):\n",
    "        if num % i == 0:\n",
    "            return False\n",
    "    return True\n",
    "\n",
    "start = int(input(\"Enter the start of the range: \"))\n",
    "end = int(input(\"Enter the end of the range: \"))\n",
    "\n",
    "print(f\"Numbers within the range ({start}, {end}) except prime numbers:\")\n",
    "for num in range(start, end + 1):\n",
    "    if not is_prime(num):\n",
    "        print(num)\n"
   ]
  },
  {
   "cell_type": "markdown",
   "id": "c73ca522",
   "metadata": {},
   "source": [
    "# Example 13: Python program to get the Fibonacci series between 0 to 50."
   ]
  },
  {
   "cell_type": "code",
   "execution_count": null,
   "id": "a7bd40d9",
   "metadata": {},
   "outputs": [],
   "source": [
    "a, b = 0, 1\n",
    "fibonacci_series = []\n",
    "while a <= 50:\n",
    "    fibonacci_series.append(a)\n",
    "    a, b = b, a + b\n",
    "\n",
    "print(\"Fibonacci series between 0 and 50:\")\n",
    "print(fibonacci_series)\n"
   ]
  },
  {
   "cell_type": "markdown",
   "id": "50d99aef",
   "metadata": {},
   "source": [
    "# Example 14: Python program to find the factorial of a given number."
   ]
  },
  {
   "cell_type": "code",
   "execution_count": null,
   "id": "6a61557c",
   "metadata": {},
   "outputs": [],
   "source": [
    "# Example 14\n",
    "def factorial(n):\n",
    "    if n == 0 or n == 1:\n",
    "        return 1\n",
    "    else:\n",
    "        return n * factorial(n - 1)\n",
    "\n",
    "number = int(input(\"Enter a number: \"))\n",
    "result = factorial(number)\n",
    "print(f\"The factorial of {number} is: {result}\")\n"
   ]
  },
  {
   "cell_type": "markdown",
   "id": "edd9c91b",
   "metadata": {},
   "source": [
    "# Example 15: Python program that accepts a string and calculates the number of digits and letters."
   ]
  },
  {
   "cell_type": "code",
   "execution_count": null,
   "id": "6d914b38",
   "metadata": {},
   "outputs": [],
   "source": [
    "input_string = input(\"Enter a string: \")\n",
    "num_digits = sum(c.isdigit() for c in input_string)\n",
    "num_letters = sum(c.isalpha() for c in input_string)\n",
    "\n",
    "print(f\"Number of digits: {num_digits}\")\n",
    "print(f\"Number of letters: {num_letters}\")\n"
   ]
  },
  {
   "cell_type": "markdown",
   "id": "9af52bd0",
   "metadata": {},
   "source": [
    "# Example 16: Write a Python program that iterates the integers from 1 to 25."
   ]
  },
  {
   "cell_type": "code",
   "execution_count": null,
   "id": "c338ea03",
   "metadata": {},
   "outputs": [],
   "source": [
    "print(\"Integers from 1 to 10:\")\n",
    "for i in range(1, 11):\n",
    "    print(i)\n"
   ]
  },
  {
   "cell_type": "markdown",
   "id": "7ed2164f",
   "metadata": {},
   "source": [
    "# Example 17: Python program to check the validity of password input by users."
   ]
  },
  {
   "cell_type": "code",
   "execution_count": null,
   "id": "2109be0f",
   "metadata": {},
   "outputs": [],
   "source": [
    "import re\n",
    "\n",
    "def is_valid_password(password):\n",
    "    # Password must be at least 8 characters long\n",
    "    # It must contain at least one uppercase letter, one lowercase letter, and one digit\n",
    "    return bool(re.match(r'^(?=.*[a-z])(?=.*[A-Z])(?=.*\\d).{8,}$', password))\n",
    "\n",
    "user_password = input(\"Enter a password: \")\n",
    "if is_valid_password(user_password):\n",
    "    print(\"Valid password.\")\n",
    "else:\n",
    "    print(\"Invalid password.\")\n"
   ]
  },
  {
   "cell_type": "markdown",
   "id": "a3ff9d40",
   "metadata": {},
   "source": [
    "# Example 18: Python program to convert the month name to a number of days."
   ]
  },
  {
   "cell_type": "code",
   "execution_count": null,
   "id": "d5761fad",
   "metadata": {},
   "outputs": [],
   "source": [
    "def get_days_in_month(month_name):\n",
    "    days_in_month = {\n",
    "        'January': 31,\n",
    "        'February': 28,  # Assuming not a leap year for simplicity\n",
    "        'March': 31,\n",
    "        'April': 30,\n",
    "        'May': 31,\n",
    "        'June': 30,\n",
    "        'July': 31,\n",
    "        'August': 31,\n",
    "        'September': 30,\n",
    "        'October': 31,\n",
    "        'November': 30,\n",
    "        'December': 31\n",
    "    }\n",
    "    return days_in_month.get(month_name, \"Invalid month name\")\n",
    "\n",
    "user_month = input(\"Enter the month name: \")\n",
    "result = get_days_in_month(user_month)\n",
    "print(f\"Number of days in {user_month}: {result}\")\n"
   ]
  },
  {
   "cell_type": "markdown",
   "id": "6cbe8f28",
   "metadata": {},
   "source": [
    "# Today's Class 14/11/2023"
   ]
  },
  {
   "cell_type": "code",
   "execution_count": null,
   "id": "677f9627",
   "metadata": {},
   "outputs": [],
   "source": [
    "for num in range(1,11):\n",
    "    product_table = 1\n",
    "    while product_table < 10:\n",
    "        print(\"{} X {} = {}\".format(num, product_table, num * product_table))\n",
    "        product_table += 1\n",
    "    print(\"--------------------\")"
   ]
  },
  {
   "cell_type": "markdown",
   "id": "f74bb025",
   "metadata": {},
   "source": [
    "# Write a For Loop That Prints Out All The Elements Between -5 and 5 using Range Function"
   ]
  },
  {
   "cell_type": "code",
   "execution_count": null,
   "id": "a357e778",
   "metadata": {},
   "outputs": [],
   "source": [
    "print(\"Integers from -5 to 5:\")\n",
    "for i in range(-5, 6):\n",
    "    print(i)\n"
   ]
  },
  {
   "cell_type": "code",
   "execution_count": null,
   "id": "2bc765ae",
   "metadata": {
    "scrolled": false
   },
   "outputs": [],
   "source": [
    "genres = ['rock', 'soul', 'pop']\n",
    "n = len(genres)\n",
    "for i in range(n):\n",
    "    print(genres[i])"
   ]
  },
  {
   "cell_type": "code",
   "execution_count": null,
   "id": "b829771d",
   "metadata": {},
   "outputs": [],
   "source": []
  },
  {
   "cell_type": "code",
   "execution_count": null,
   "id": "1233f422",
   "metadata": {},
   "outputs": [],
   "source": [
    "PlayListRatings = [10, 9.5, 10, 8, 7.5, 5, 10, 10]\n",
    "\n",
    "for rating in PlayListRatings:\n",
    "    if rating < 6:\n",
    "        break\n",
    "    print(rating)"
   ]
  },
  {
   "cell_type": "code",
   "execution_count": null,
   "id": "56d6c606",
   "metadata": {},
   "outputs": [],
   "source": [
    "PlayListRatings = [10, 9.5, 10, 8, 7.5, 5, 10, 10]\n",
    "\n",
    "rating_index = -1\n",
    "while rating_index < len(PlayListRatings) -1:\n",
    "    \n",
    "    rating_index = rating_index + 1\n",
    "    if PlayListRatings[rating_index] < 6:\n",
    "        break\n",
    "    print(PlayListRatings[rating_index])"
   ]
  },
  {
   "cell_type": "code",
   "execution_count": null,
   "id": "c381cb61",
   "metadata": {},
   "outputs": [],
   "source": [
    "tp = [1,2,3,4]\n",
    "tp[2] = 8"
   ]
  },
  {
   "cell_type": "code",
   "execution_count": null,
   "id": "57c3f9df",
   "metadata": {},
   "outputs": [],
   "source": [
    "type(tp)"
   ]
  },
  {
   "cell_type": "code",
   "execution_count": null,
   "id": "74380302",
   "metadata": {},
   "outputs": [],
   "source": [
    "tp"
   ]
  },
  {
   "cell_type": "code",
   "execution_count": null,
   "id": "1dc11b67",
   "metadata": {},
   "outputs": [],
   "source": [
    "names = [\"Alaba\", \"Mustapha\", \"Habib\", \"Yusuf\"]\n",
    "ages = [12, 13, 54,24]\n",
    "\n",
    "list(zip(names, ages))"
   ]
  },
  {
   "cell_type": "code",
   "execution_count": null,
   "id": "7d5edbce",
   "metadata": {},
   "outputs": [],
   "source": [
    "\n",
    "[\n",
    "    [1,2,3,4,5,6],\n",
    "    [45,66,77,88],\n",
    "    [12,32,12,45]\n",
    "]"
   ]
  },
  {
   "cell_type": "code",
   "execution_count": null,
   "id": "58993675",
   "metadata": {},
   "outputs": [],
   "source": []
  },
  {
   "cell_type": "code",
   "execution_count": null,
   "id": "ad540e1a",
   "metadata": {},
   "outputs": [],
   "source": [
    "list_sclice =  [45,66,77,88]\n",
    "list_sclice[1:4]"
   ]
  },
  {
   "cell_type": "code",
   "execution_count": null,
   "id": "937759f8",
   "metadata": {},
   "outputs": [],
   "source": [
    "tuple_sclice =  (45,66,77,88)\n",
    "tuple_sclice[1:4]"
   ]
  },
  {
   "cell_type": "code",
   "execution_count": null,
   "id": "b6343869",
   "metadata": {},
   "outputs": [],
   "source": [
    "Patings = list_sclice =  (45,66,77,88,99)\n",
    "sorted(Patings, reverse = True)"
   ]
  },
  {
   "cell_type": "code",
   "execution_count": null,
   "id": "4008b36a",
   "metadata": {},
   "outputs": [],
   "source": [
    "Nascoo = list_sclice =  \"Nasir\"\n",
    "sorted(Nascoo)"
   ]
  },
  {
   "cell_type": "code",
   "execution_count": null,
   "id": "989c494e",
   "metadata": {},
   "outputs": [],
   "source": [
    "len(Nascoo)"
   ]
  },
  {
   "cell_type": "markdown",
   "id": "832e03a3",
   "metadata": {},
   "source": [
    "# Sets"
   ]
  },
  {
   "cell_type": "code",
   "execution_count": null,
   "id": "fa655c61",
   "metadata": {},
   "outputs": [],
   "source": [
    "# Sample Setsalbum_\n",
    "album_set1 = set([\"Thriller\", 'AC/DC', 'Back in Black'])\n",
    "album_set2 = set([ \"AC/DC\", \"Back in Black\", \"The Dark Side of the Moon\"])\n"
   ]
  },
  {
   "cell_type": "code",
   "execution_count": null,
   "id": "e4f7a879",
   "metadata": {},
   "outputs": [],
   "source": [
    "intersection = {1,2} & {3,4,2,1,5,6,}\n",
    "intersection"
   ]
  },
  {
   "cell_type": "code",
   "execution_count": null,
   "id": "1827aab8",
   "metadata": {},
   "outputs": [],
   "source": [
    "set([1,2,3]).issubset(set(list(range(0,9))))"
   ]
  },
  {
   "cell_type": "markdown",
   "id": "e75b7ea1",
   "metadata": {},
   "source": [
    "# 15/11/23 Class On Dictionary"
   ]
  },
  {
   "cell_type": "code",
   "execution_count": null,
   "id": "d51fa36a",
   "metadata": {},
   "outputs": [],
   "source": [
    "mydict ={'brand': 'Toyota', 'Year': 2000, 'Model': ['Corrola','Matrix', 'Avalon', 'Venza']}\n",
    "print(mydict)"
   ]
  },
  {
   "cell_type": "code",
   "execution_count": null,
   "id": "e28ac904",
   "metadata": {},
   "outputs": [],
   "source": [
    "mydict['Year'] # one way of accessing information from a dictionary using index"
   ]
  },
  {
   "cell_type": "code",
   "execution_count": null,
   "id": "171a8ec0",
   "metadata": {},
   "outputs": [],
   "source": [
    "mydict.get('Model') #second way of accessing information from a dictionary"
   ]
  },
  {
   "cell_type": "code",
   "execution_count": null,
   "id": "f6d13b31",
   "metadata": {},
   "outputs": [],
   "source": [
    "mydict.keys()   #To grab all the keys in a dictionary, run the preecind code"
   ]
  },
  {
   "cell_type": "code",
   "execution_count": null,
   "id": "4d0e2629",
   "metadata": {},
   "outputs": [],
   "source": [
    "mydict.values() #To grab all the values in a dictionary, run the preecind code"
   ]
  },
  {
   "cell_type": "code",
   "execution_count": null,
   "id": "99fda05a",
   "metadata": {},
   "outputs": [],
   "source": [
    "mydict['color'] = 'Red' #Updating the dictionary\n",
    "\n",
    "mydict['car_type'] = ['Salon', 'Ferrari', 'SUV', 'Buggati']"
   ]
  },
  {
   "cell_type": "code",
   "execution_count": null,
   "id": "a94a305d",
   "metadata": {},
   "outputs": [],
   "source": [
    "mydict"
   ]
  },
  {
   "cell_type": "code",
   "execution_count": null,
   "id": "58cd60df",
   "metadata": {},
   "outputs": [],
   "source": [
    "#Another Methode to UPdate a Dictionary\n",
    "\n",
    "mydict.update({'Year': 2023})"
   ]
  },
  {
   "cell_type": "code",
   "execution_count": null,
   "id": "ebda935d",
   "metadata": {},
   "outputs": [],
   "source": [
    "mydict"
   ]
  },
  {
   "cell_type": "code",
   "execution_count": null,
   "id": "7e7233d2",
   "metadata": {},
   "outputs": [],
   "source": [
    "#How to remove a value from the dictionary\n",
    "\n",
    "mydict.pop('color')"
   ]
  },
  {
   "cell_type": "code",
   "execution_count": null,
   "id": "82a16b0b",
   "metadata": {},
   "outputs": [],
   "source": [
    "mydict"
   ]
  },
  {
   "cell_type": "code",
   "execution_count": null,
   "id": "e6558d7b",
   "metadata": {},
   "outputs": [],
   "source": [
    "mydict.popitem()"
   ]
  },
  {
   "cell_type": "code",
   "execution_count": null,
   "id": "116d61a9",
   "metadata": {},
   "outputs": [],
   "source": [
    "del mydict['Year'] "
   ]
  },
  {
   "cell_type": "code",
   "execution_count": null,
   "id": "3255522c",
   "metadata": {},
   "outputs": [],
   "source": [
    "mydict"
   ]
  },
  {
   "cell_type": "code",
   "execution_count": null,
   "id": "0e364cd6",
   "metadata": {},
   "outputs": [],
   "source": [
    "del mydict"
   ]
  },
  {
   "cell_type": "code",
   "execution_count": null,
   "id": "7ee4d34e",
   "metadata": {},
   "outputs": [],
   "source": [
    "mydict"
   ]
  },
  {
   "cell_type": "code",
   "execution_count": null,
   "id": "53a581ab",
   "metadata": {},
   "outputs": [],
   "source": []
  },
  {
   "cell_type": "code",
   "execution_count": null,
   "id": "a15c9fd3",
   "metadata": {},
   "outputs": [],
   "source": []
  },
  {
   "cell_type": "code",
   "execution_count": null,
   "id": "24e3f205",
   "metadata": {},
   "outputs": [],
   "source": [
    "import pandas as pd"
   ]
  },
  {
   "cell_type": "code",
   "execution_count": null,
   "id": "18d06eb2",
   "metadata": {},
   "outputs": [],
   "source": [
    "df = pd.read_csv(\"telco_churn.csv\")"
   ]
  },
  {
   "cell_type": "code",
   "execution_count": null,
   "id": "275aea27",
   "metadata": {},
   "outputs": [],
   "source": [
    "df.head()"
   ]
  },
  {
   "cell_type": "code",
   "execution_count": null,
   "id": "701673b9",
   "metadata": {},
   "outputs": [],
   "source": []
  }
 ],
 "metadata": {
  "kernelspec": {
   "display_name": "Python 3 (ipykernel)",
   "language": "python",
   "name": "python3"
  },
  "language_info": {
   "codemirror_mode": {
    "name": "ipython",
    "version": 3
   },
   "file_extension": ".py",
   "mimetype": "text/x-python",
   "name": "python",
   "nbconvert_exporter": "python",
   "pygments_lexer": "ipython3",
   "version": "3.11.5"
  }
 },
 "nbformat": 4,
 "nbformat_minor": 5
}
