{
 "cells": [
  {
   "cell_type": "code",
   "execution_count": null,
   "id": "c67f096a",
   "metadata": {},
   "outputs": [],
   "source": [
    "print(\"I love Python\")"
   ]
  },
  {
   "cell_type": "code",
   "execution_count": null,
   "id": "0b5b87c9",
   "metadata": {},
   "outputs": [],
   "source": [
    "2 + 2 "
   ]
  },
  {
   "cell_type": "code",
   "execution_count": null,
   "id": "9b1f4951",
   "metadata": {},
   "outputs": [],
   "source": [
    "age = 27\n",
    "\n",
    "height = 1.87\n",
    "\n",
    "name = \"Yusuf Nasir Ahmad\""
   ]
  },
  {
   "cell_type": "code",
   "execution_count": null,
   "id": "391f97c2",
   "metadata": {},
   "outputs": [],
   "source": [
    "num1 = 2\n",
    "\n",
    "num2 = 7\n",
    "\n",
    "num3 = 4\n",
    "\n",
    "\n",
    "mean = (num1 + num2 + num3) / 3\n",
    "\n",
    "\"The average of {}, {}, {}, is: {}\".format(num1, num2, num3, mean)"
   ]
  },
  {
   "cell_type": "code",
   "execution_count": null,
   "id": "65b4a33a",
   "metadata": {},
   "outputs": [],
   "source": [
    "import sys\n",
    "print(sys.version)\n",
    "\n",
    "name = \"Yusuf\"\n",
    "\n",
    "dir(name)\n",
    "\n",
    "help(print)"
   ]
  },
  {
   "cell_type": "code",
   "execution_count": null,
   "id": "2469cf46",
   "metadata": {},
   "outputs": [],
   "source": [
    "help(sys)"
   ]
  },
  {
   "cell_type": "markdown",
   "id": "a8f1b699",
   "metadata": {},
   "source": [
    "# Write a Python Code That Takes inputs of Two Numbers and Return The Product"
   ]
  },
  {
   "cell_type": "code",
   "execution_count": null,
   "id": "14ca09c9",
   "metadata": {},
   "outputs": [],
   "source": [
    "price = int(input(\" Enter Price of comodity: \"))\n",
    "quantity = int(input(\"Enter Quantity of commodity: \"))\n",
    "\n",
    "product = price * quantity\n",
    "\n",
    "print(f\" the product of {price} and {quantity} is {product}.\")"
   ]
  },
  {
   "cell_type": "code",
   "execution_count": null,
   "id": "4234f7b9",
   "metadata": {},
   "outputs": [],
   "source": [
    "x = 3 + 3 * 2\n",
    "print(x)"
   ]
  },
  {
   "cell_type": "code",
   "execution_count": null,
   "id": "2f50f43a",
   "metadata": {},
   "outputs": [],
   "source": [
    "y = (3 + 2) * 2\n",
    "print (y)"
   ]
  },
  {
   "cell_type": "markdown",
   "id": "0ad62aff",
   "metadata": {},
   "source": [
    "# Using Slice, slecet the 3rd to 7th element\n",
    "\n",
    "# Selecet every 4th element\n",
    "\n",
    "# Find the sum of all the elements"
   ]
  },
  {
   "cell_type": "code",
   "execution_count": null,
   "id": "7acfa2b5",
   "metadata": {},
   "outputs": [],
   "source": [
    "ages = [23, 45, 67, 12, 34, 12, 34, 12, 76, 50, 23]\n",
    "#        0  1   2   3   4   5   6   7   8   9  10\n",
    "\n",
    "ages[2]"
   ]
  },
  {
   "cell_type": "code",
   "execution_count": null,
   "id": "1770ec2b",
   "metadata": {},
   "outputs": [],
   "source": [
    "ages[2:8]"
   ]
  },
  {
   "cell_type": "code",
   "execution_count": null,
   "id": "5da32599",
   "metadata": {},
   "outputs": [],
   "source": [
    "ages[5]"
   ]
  },
  {
   "cell_type": "code",
   "execution_count": null,
   "id": "b884d3ab",
   "metadata": {},
   "outputs": [],
   "source": [
    "sum(ages)"
   ]
  },
  {
   "cell_type": "code",
   "execution_count": null,
   "id": "ca82cb48",
   "metadata": {
    "scrolled": true
   },
   "outputs": [],
   "source": [
    "sum_of_ages = 0\n",
    "for age in ages:\n",
    "    sum_of_ages = sum_of_ages + age\n",
    "print(sum_of_ages)"
   ]
  },
  {
   "cell_type": "code",
   "execution_count": null,
   "id": "6f7b3913",
   "metadata": {},
   "outputs": [],
   "source": [
    "new_ages = []\n",
    "for age in ages:\n",
    "    if age < 20:\n",
    "        new_ages.append(age)\n",
    "new_ages"
   ]
  },
  {
   "cell_type": "code",
   "execution_count": null,
   "id": "a5e09b84",
   "metadata": {},
   "outputs": [],
   "source": []
  },
  {
   "cell_type": "code",
   "execution_count": null,
   "id": "6524f8df",
   "metadata": {},
   "outputs": [],
   "source": [
    "name2 = \"Yusuf Nasir Ahmadu\"\n",
    "\n",
    "name2.find('z')"
   ]
  },
  {
   "cell_type": "code",
   "execution_count": null,
   "id": "daee57bc",
   "metadata": {},
   "outputs": [],
   "source": [
    "\"I,love,my,mum\".split(\",\")"
   ]
  },
  {
   "cell_type": "code",
   "execution_count": null,
   "id": "6d48c6ae",
   "metadata": {},
   "outputs": [],
   "source": [
    "\"Python\"[::-1]"
   ]
  },
  {
   "cell_type": "code",
   "execution_count": null,
   "id": "bdb6e502",
   "metadata": {},
   "outputs": [],
   "source": [
    "import pandas as pd\n",
    "import numpy as np\n",
    "import seaborn as sns\n",
    "import matplotlib as plt"
   ]
  },
  {
   "cell_type": "code",
   "execution_count": null,
   "id": "4778726b",
   "metadata": {},
   "outputs": [],
   "source": [
    "for character in \"Nasco\":\n",
    "    print(character)"
   ]
  },
  {
   "cell_type": "code",
   "execution_count": null,
   "id": "d983c188",
   "metadata": {},
   "outputs": [],
   "source": [
    "sum_of_ages = 0\n",
    "for age in ages:\n",
    "    sum_of_ages = sum_of_ages + age\n",
    "print(sum_of_ages)"
   ]
  },
  {
   "cell_type": "code",
   "execution_count": null,
   "id": "48926b13",
   "metadata": {},
   "outputs": [],
   "source": [
    "your_name = str(input(\" What is your full name: ?\"))\n",
    "your_name[::-1]"
   ]
  },
  {
   "cell_type": "code",
   "execution_count": null,
   "id": "bfc50815",
   "metadata": {},
   "outputs": [],
   "source": [
    "# Initialize the first two terms of the Fibonacci series\n",
    "a = 0\n",
    "b = 1\n",
    "\n",
    "# Create a list to store the Fibonacci series\n",
    "fibonacci_series = []\n",
    "\n",
    "# Iterate until the current term is less than or equal to 50\n",
    "while b <= 50:\n",
    "    # Add the current term to the list\n",
    "    fibonacci_series.append(b)\n",
    "\n",
    "    # Calculate the next term in the Fibonacci series\n",
    "    c = a + b\n",
    "\n",
    "    # Update the first two terms\n",
    "    a = b\n",
    "    b = c\n",
    "\n",
    "# Print the Fibonacci series\n",
    "print(fibonacci_series)"
   ]
  },
  {
   "cell_type": "code",
   "execution_count": null,
   "id": "c03728aa",
   "metadata": {},
   "outputs": [],
   "source": [
    "def is_palindrome(string):\n",
    "    reversed_string = string[::-1]\n",
    "    return string == reversed_string\n",
    "\n",
    "# Test the function\n",
    "word = \"madam\"\n",
    "if is_palindrome(word):\n",
    "    print(f\"{word} is a palindrome\")\n",
    "else:\n",
    "    print(f\"{word} is not a palindrome\")"
   ]
  },
  {
   "cell_type": "markdown",
   "id": "19ebc730",
   "metadata": {},
   "source": [
    "# Write a Python Program that \"Print the first 10 natural numbers using for loop.\""
   ]
  },
  {
   "cell_type": "code",
   "execution_count": null,
   "id": "7e4327cd",
   "metadata": {},
   "outputs": [],
   "source": [
    "# Using a for loop to iterate through numbers 1 to 10\n",
    "for i in range(1, 11):\n",
    "    print(i)\n"
   ]
  },
  {
   "cell_type": "code",
   "execution_count": null,
   "id": "4cae3cbf",
   "metadata": {
    "scrolled": true
   },
   "outputs": [],
   "source": [
    "for i in range (1, 50):\n",
    "    print(i)"
   ]
  },
  {
   "cell_type": "markdown",
   "id": "a75c208b",
   "metadata": {},
   "source": [
    "# Python program to print all the even numbers within a given range\n"
   ]
  },
  {
   "cell_type": "code",
   "execution_count": null,
   "id": "beae873e",
   "metadata": {
    "scrolled": true
   },
   "outputs": [],
   "source": [
    "# Taking input for the range from the user\n",
    "start = int(input(\"Enter the start of the range: \"))\n",
    "end = int(input(\"Enter the end of the range: \"))\n",
    "\n",
    "# Using a for loop to iterate through the range\n",
    "print(f\"Even numbers between {start} and {end} are:\")\n",
    "for num in range(start, end + 1):\n",
    "    if num % 2 == 0:\n",
    "        print(num)\n"
   ]
  },
  {
   "cell_type": "markdown",
   "id": "e2c36ae9",
   "metadata": {},
   "source": [
    "# Printing For Odd Numbers Withing A Given Range"
   ]
  },
  {
   "cell_type": "code",
   "execution_count": null,
   "id": "dee17a42",
   "metadata": {},
   "outputs": [],
   "source": [
    "start = int(input(\"Enter any rational number here: \"))\n",
    "end = int(input(\"Enter any rational number here as well: \"))\n",
    "\n",
    "print(f\"Even numbers between {start} and {end} are: \") \n",
    "for num in range (start, end + 1):\n",
    "    if num % 2 != 0:\n",
    "        print(num)"
   ]
  },
  {
   "cell_type": "markdown",
   "id": "a435dabb",
   "metadata": {},
   "source": [
    "# Python program to calculate the sum of all numbers from 1 to a given number"
   ]
  },
  {
   "cell_type": "code",
   "execution_count": null,
   "id": "9f066afa",
   "metadata": {},
   "outputs": [],
   "source": [
    "# Taking input for the upper limit from the user\n",
    "n = int(input(\"Enter a number: \"))\n",
    "\n",
    "# Initializing a variable to store the sum\n",
    "sum_of_numbers = 0\n",
    "\n",
    "# Using a for loop to iterate through numbers 1 to n\n",
    "for i in range(1, n + 1):\n",
    "    sum_of_numbers += i\n",
    "\n",
    "# Printing the sum\n",
    "print(f\"The sum of all numbers from 1 to {n} is: {sum_of_numbers}\")\n"
   ]
  },
  {
   "cell_type": "code",
   "execution_count": null,
   "id": "f732c641",
   "metadata": {},
   "outputs": [],
   "source": [
    "n = int(input(\"Enter any number of your choice: \"))\n",
    "\n",
    "sum_of_numbers = 0\n",
    "\n",
    "for i in range (1, n + 1):\n",
    "    sum_of_numbers += i\n",
    "print(f\"The sum of all numbers from 1 to {n} is: {sum_of_numbers}\")"
   ]
  },
  {
   "cell_type": "markdown",
   "id": "60fbc82c",
   "metadata": {},
   "source": [
    "# Python program to calculate the sum of all the odd numbers within the given range."
   ]
  },
  {
   "cell_type": "code",
   "execution_count": null,
   "id": "3de857d1",
   "metadata": {},
   "outputs": [],
   "source": [
    "value = int(input(\"Enter any number here: \"))\n",
    "\n",
    "sum_of_odd_numbers = 0\n",
    "\n",
    "for num in range (1, value + 1):\n",
    "    if num % 2 != 0:\n",
    "        sum_of_odd_numbers += num\n",
    "print(f\"The sum of all odd numbers from 1 to {value} is: {sum_of_odd_numbers}\")\n"
   ]
  },
  {
   "cell_type": "markdown",
   "id": "f48d6a5e",
   "metadata": {},
   "source": [
    "# Python Program To Start a Product Table of a Given Number"
   ]
  },
  {
   "cell_type": "code",
   "execution_count": null,
   "id": "cdcf248c",
   "metadata": {},
   "outputs": [],
   "source": [
    "# Python program to print a multiplication table of a given number\n",
    "\n",
    "# Taking input for the number from the user\n",
    "number = int(input(\"Enter a number to generate its multiplication table: \"))\n",
    "\n",
    "# Using a for loop to iterate through the multiplication table\n",
    "print(f\"Multiplication table for {number} is:\")\n",
    "for i in range(1, 11):\n",
    "    result = number * i\n",
    "    print(f\"{number} x {i} = {result}\")\n"
   ]
  },
  {
   "cell_type": "code",
   "execution_count": null,
   "id": "7ccecae0",
   "metadata": {},
   "outputs": [],
   "source": [
    "multiplication = int(input(\"Enter any number: \"))\n",
    "\n",
    "print(f\"The multiplication table for {multiplication} is: \")\n",
    "\n",
    "for i in range(1, 11):\n",
    "    results = multiplication * i\n",
    "    print(f\"{multiplication} x {1} = {results}\")"
   ]
  },
  {
   "cell_type": "markdown",
   "id": "e112bda6",
   "metadata": {},
   "source": [
    "# Python program to display numbers from a list using a for loop."
   ]
  },
  {
   "cell_type": "code",
   "execution_count": null,
   "id": "f806e011",
   "metadata": {},
   "outputs": [],
   "source": [
    "# Python program to display numbers from a list using a for loop\n",
    "\n",
    "# Sample list of numbers\n",
    "prices = [100, 200, 2023, 400, 5000, 600, 7221, 800, 900, 10000]\n",
    "\n",
    "# Using a for loop to iterate through the list\n",
    "print(\"Prices from the list:\")\n",
    "for price in prices:\n",
    "    print(price)\n"
   ]
  },
  {
   "cell_type": "markdown",
   "id": "fd7f5be2",
   "metadata": {},
   "source": [
    "# Example 7: Python program to count the total number of digits in a number."
   ]
  },
  {
   "cell_type": "code",
   "execution_count": null,
   "id": "e4e3318e",
   "metadata": {},
   "outputs": [],
   "source": [
    "number = int(input(\"Enter a number: \"))\n",
    "num_digits = len(str(abs(number)))\n",
    "print(f\"Total number of digits in {number}: {num_digits}\")\n"
   ]
  },
  {
   "cell_type": "markdown",
   "id": "8a067b5f",
   "metadata": {},
   "source": [
    "# Example 8: Python program to check if the given string is a palindrome."
   ]
  },
  {
   "cell_type": "code",
   "execution_count": null,
   "id": "ab61b145",
   "metadata": {},
   "outputs": [],
   "source": [
    "def is_palindrome(s):\n",
    "    s = s.lower()\n",
    "    return s == s[::-1]\n",
    "\n",
    "input_string = input(\"Enter a string: \")\n",
    "if is_palindrome(input_string):\n",
    "    print(\"It is a palindrome.\")\n",
    "else:\n",
    "    print(\"It is not a palindrome.\")\n"
   ]
  },
  {
   "cell_type": "markdown",
   "id": "c7fcac7a",
   "metadata": {},
   "source": [
    "# Example 9: Python program that accepts a word from the user and reverses it."
   ]
  },
  {
   "cell_type": "code",
   "execution_count": null,
   "id": "ebbd4f39",
   "metadata": {},
   "outputs": [],
   "source": [
    "word = input(\"Enter a word: \")\n",
    "reversed_word = word[::-1]\n",
    "print(f\"Reversed word: {reversed_word}\")\n"
   ]
  },
  {
   "cell_type": "markdown",
   "id": "8a29677e",
   "metadata": {},
   "source": [
    "# Example 10: Python program to check if a given number is an Armstrong number."
   ]
  },
  {
   "cell_type": "code",
   "execution_count": null,
   "id": "47e9d446",
   "metadata": {},
   "outputs": [],
   "source": [
    "def is_armstrong_number(num):\n",
    "    order = len(str(num))\n",
    "    temp = num\n",
    "    sum = 0\n",
    "    while temp > 0:\n",
    "        digit = temp % 10\n",
    "        sum += digit ** order\n",
    "        temp //= 10\n",
    "    return num == sum\n",
    "\n",
    "number = int(input(\"Enter a number: \"))\n",
    "if is_armstrong_number(number):\n",
    "    print(f\"{number} is an Armstrong number.\")\n",
    "else:\n",
    "    print(f\"{number} is not an Armstrong number.\")"
   ]
  },
  {
   "cell_type": "markdown",
   "id": "bacd9456",
   "metadata": {},
   "source": [
    "# Example 11: Python program to count the number of even and odd numbers from a series of numbers."
   ]
  },
  {
   "cell_type": "code",
   "execution_count": null,
   "id": "016d2102",
   "metadata": {},
   "outputs": [],
   "source": [
    "numbers = [1, 2, 3, 4, 5, 6, 7, 8, 9, 10]\n",
    "even_count = 0\n",
    "odd_count = 0\n",
    "for num in numbers:\n",
    "    if num % 2 == 0:\n",
    "        even_count += 1\n",
    "    else:\n",
    "        odd_count += 1\n",
    "\n",
    "print(f\"Number of even numbers: {even_count}\")\n",
    "print(f\"Number of odd numbers: {odd_count}\")\n"
   ]
  },
  {
   "cell_type": "markdown",
   "id": "1151af3f",
   "metadata": {},
   "source": [
    "# Example 12: Python program to display all numbers within a range except the prime numbers."
   ]
  },
  {
   "cell_type": "code",
   "execution_count": null,
   "id": "7fb00682",
   "metadata": {},
   "outputs": [],
   "source": [
    "# Example 12\n",
    "def is_prime(num):\n",
    "    if num < 2:\n",
    "        return False\n",
    "    for i in range(2, int(num**0.5) + 1):\n",
    "        if num % i == 0:\n",
    "            return False\n",
    "    return True\n",
    "\n",
    "start = int(input(\"Enter the start of the range: \"))\n",
    "end = int(input(\"Enter the end of the range: \"))\n",
    "\n",
    "print(f\"Numbers within the range ({start}, {end}) except prime numbers:\")\n",
    "for num in range(start, end + 1):\n",
    "    if not is_prime(num):\n",
    "        print(num)\n"
   ]
  },
  {
   "cell_type": "markdown",
   "id": "c73ca522",
   "metadata": {},
   "source": [
    "# Example 13: Python program to get the Fibonacci series between 0 to 50."
   ]
  },
  {
   "cell_type": "code",
   "execution_count": null,
   "id": "a7bd40d9",
   "metadata": {},
   "outputs": [],
   "source": [
    "a, b = 0, 1\n",
    "fibonacci_series = []\n",
    "while a <= 50:\n",
    "    fibonacci_series.append(a)\n",
    "    a, b = b, a + b\n",
    "\n",
    "print(\"Fibonacci series between 0 and 50:\")\n",
    "print(fibonacci_series)\n"
   ]
  },
  {
   "cell_type": "markdown",
   "id": "50d99aef",
   "metadata": {},
   "source": [
    "# Example 14: Python program to find the factorial of a given number."
   ]
  },
  {
   "cell_type": "code",
   "execution_count": null,
   "id": "6a61557c",
   "metadata": {},
   "outputs": [],
   "source": [
    "# Example 14\n",
    "def factorial(n):\n",
    "    if n == 0 or n == 1:\n",
    "        return 1\n",
    "    else:\n",
    "        return n * factorial(n - 1)\n",
    "\n",
    "number = int(input(\"Enter a number: \"))\n",
    "result = factorial(number)\n",
    "print(f\"The factorial of {number} is: {result}\")\n"
   ]
  },
  {
   "cell_type": "markdown",
   "id": "edd9c91b",
   "metadata": {},
   "source": [
    "# Example 15: Python program that accepts a string and calculates the number of digits and letters."
   ]
  },
  {
   "cell_type": "code",
   "execution_count": null,
   "id": "6d914b38",
   "metadata": {},
   "outputs": [],
   "source": [
    "input_string = input(\"Enter a string: \")\n",
    "num_digits = sum(c.isdigit() for c in input_string)\n",
    "num_letters = sum(c.isalpha() for c in input_string)\n",
    "\n",
    "print(f\"Number of digits: {num_digits}\")\n",
    "print(f\"Number of letters: {num_letters}\")\n"
   ]
  },
  {
   "cell_type": "markdown",
   "id": "9af52bd0",
   "metadata": {},
   "source": [
    "# Example 16: Write a Python program that iterates the integers from 1 to 25."
   ]
  },
  {
   "cell_type": "code",
   "execution_count": null,
   "id": "c338ea03",
   "metadata": {},
   "outputs": [],
   "source": [
    "print(\"Integers from 1 to 10:\")\n",
    "for i in range(1, 11):\n",
    "    print(i)\n"
   ]
  },
  {
   "cell_type": "markdown",
   "id": "7ed2164f",
   "metadata": {},
   "source": [
    "# Example 17: Python program to check the validity of password input by users."
   ]
  },
  {
   "cell_type": "code",
   "execution_count": null,
   "id": "2109be0f",
   "metadata": {},
   "outputs": [],
   "source": [
    "import re\n",
    "\n",
    "def is_valid_password(password):\n",
    "    # Password must be at least 8 characters long\n",
    "    # It must contain at least one uppercase letter, one lowercase letter, and one digit\n",
    "    return bool(re.match(r'^(?=.*[a-z])(?=.*[A-Z])(?=.*\\d).{8,}$', password))\n",
    "\n",
    "user_password = input(\"Enter a password: \")\n",
    "if is_valid_password(user_password):\n",
    "    print(\"Valid password.\")\n",
    "else:\n",
    "    print(\"Invalid password.\")\n"
   ]
  },
  {
   "cell_type": "markdown",
   "id": "a3ff9d40",
   "metadata": {},
   "source": [
    "# Example 18: Python program to convert the month name to a number of days."
   ]
  },
  {
   "cell_type": "code",
   "execution_count": null,
   "id": "d5761fad",
   "metadata": {},
   "outputs": [],
   "source": [
    "def get_days_in_month(month_name):\n",
    "    days_in_month = {\n",
    "        'January': 31,\n",
    "        'February': 28,  # Assuming not a leap year for simplicity\n",
    "        'March': 31,\n",
    "        'April': 30,\n",
    "        'May': 31,\n",
    "        'June': 30,\n",
    "        'July': 31,\n",
    "        'August': 31,\n",
    "        'September': 30,\n",
    "        'October': 31,\n",
    "        'November': 30,\n",
    "        'December': 31\n",
    "    }\n",
    "    return days_in_month.get(month_name, \"Invalid month name\")\n",
    "\n",
    "user_month = input(\"Enter the month name: \")\n",
    "result = get_days_in_month(user_month)\n",
    "print(f\"Number of days in {user_month}: {result}\")\n"
   ]
  },
  {
   "cell_type": "markdown",
   "id": "6cbe8f28",
   "metadata": {},
   "source": [
    "# Today's Class 14/11/2023"
   ]
  },
  {
   "cell_type": "code",
   "execution_count": null,
   "id": "677f9627",
   "metadata": {},
   "outputs": [],
   "source": [
    "for num in range(1,11):\n",
    "    product_table = 1\n",
    "    while product_table < 10:\n",
    "        print(\"{} X {} = {}\".format(num, product_table, num * product_table))\n",
    "        product_table += 1\n",
    "    print(\"--------------------\")"
   ]
  },
  {
   "cell_type": "markdown",
   "id": "f74bb025",
   "metadata": {},
   "source": [
    "# Write a For Loop That Prints Out All The Elements Between -5 and 5 using Range Function"
   ]
  },
  {
   "cell_type": "code",
   "execution_count": null,
   "id": "a357e778",
   "metadata": {},
   "outputs": [],
   "source": [
    "print(\"Integers from -5 to 5:\")\n",
    "for i in range(-5, 6):\n",
    "    print(i)\n"
   ]
  },
  {
   "cell_type": "code",
   "execution_count": null,
   "id": "2bc765ae",
   "metadata": {
    "scrolled": false
   },
   "outputs": [],
   "source": [
    "genres = ['rock', 'soul', 'pop']\n",
    "n = len(genres)\n",
    "for i in range(n):\n",
    "    print(genres[i])"
   ]
  },
  {
   "cell_type": "code",
   "execution_count": null,
   "id": "b829771d",
   "metadata": {},
   "outputs": [],
   "source": []
  },
  {
   "cell_type": "code",
   "execution_count": null,
   "id": "1233f422",
   "metadata": {},
   "outputs": [],
   "source": [
    "PlayListRatings = [10, 9.5, 10, 8, 7.5, 5, 10, 10]\n",
    "\n",
    "for rating in PlayListRatings:\n",
    "    if rating < 6:\n",
    "        break\n",
    "    print(rating)"
   ]
  },
  {
   "cell_type": "code",
   "execution_count": null,
   "id": "56d6c606",
   "metadata": {},
   "outputs": [],
   "source": [
    "PlayListRatings = [10, 9.5, 10, 8, 7.5, 5, 10, 10]\n",
    "\n",
    "rating_index = -1\n",
    "while rating_index < len(PlayListRatings) -1:\n",
    "    \n",
    "    rating_index = rating_index + 1\n",
    "    if PlayListRatings[rating_index] < 6:\n",
    "        break\n",
    "    print(PlayListRatings[rating_index])"
   ]
  },
  {
   "cell_type": "code",
   "execution_count": null,
   "id": "c381cb61",
   "metadata": {},
   "outputs": [],
   "source": [
    "tp = [1,2,3,4]\n",
    "tp[2] = 8"
   ]
  },
  {
   "cell_type": "code",
   "execution_count": null,
   "id": "57c3f9df",
   "metadata": {},
   "outputs": [],
   "source": [
    "type(tp)"
   ]
  },
  {
   "cell_type": "code",
   "execution_count": null,
   "id": "74380302",
   "metadata": {},
   "outputs": [],
   "source": [
    "tp"
   ]
  },
  {
   "cell_type": "code",
   "execution_count": null,
   "id": "1dc11b67",
   "metadata": {},
   "outputs": [],
   "source": [
    "names = [\"Alaba\", \"Mustapha\", \"Habib\", \"Yusuf\"]\n",
    "ages = [12, 13, 54,24]\n",
    "\n",
    "list(zip(names, ages))"
   ]
  },
  {
   "cell_type": "code",
   "execution_count": null,
   "id": "7d5edbce",
   "metadata": {},
   "outputs": [],
   "source": [
    "\n",
    "[\n",
    "    [1,2,3,4,5,6],\n",
    "    [45,66,77,88],\n",
    "    [12,32,12,45]\n",
    "]"
   ]
  },
  {
   "cell_type": "code",
   "execution_count": null,
   "id": "58993675",
   "metadata": {},
   "outputs": [],
   "source": []
  },
  {
   "cell_type": "code",
   "execution_count": null,
   "id": "ad540e1a",
   "metadata": {},
   "outputs": [],
   "source": [
    "list_sclice =  [45,66,77,88]\n",
    "list_sclice[1:4]"
   ]
  },
  {
   "cell_type": "code",
   "execution_count": null,
   "id": "937759f8",
   "metadata": {},
   "outputs": [],
   "source": [
    "tuple_sclice =  (45,66,77,88)\n",
    "tuple_sclice[1:4]"
   ]
  },
  {
   "cell_type": "code",
   "execution_count": null,
   "id": "b6343869",
   "metadata": {},
   "outputs": [],
   "source": [
    "Patings = list_sclice =  (45,66,77,88,99)\n",
    "sorted(Patings, reverse = True)"
   ]
  },
  {
   "cell_type": "code",
   "execution_count": null,
   "id": "4008b36a",
   "metadata": {},
   "outputs": [],
   "source": [
    "Nascoo = list_sclice =  \"Nasir\"\n",
    "sorted(Nascoo)"
   ]
  },
  {
   "cell_type": "code",
   "execution_count": null,
   "id": "989c494e",
   "metadata": {},
   "outputs": [],
   "source": [
    "len(Nascoo)"
   ]
  },
  {
   "cell_type": "markdown",
   "id": "832e03a3",
   "metadata": {},
   "source": [
    "# Sets"
   ]
  },
  {
   "cell_type": "code",
   "execution_count": null,
   "id": "fa655c61",
   "metadata": {},
   "outputs": [],
   "source": [
    "# Sample Setsalbum_\n",
    "album_set1 = set([\"Thriller\", 'AC/DC', 'Back in Black'])\n",
    "album_set2 = set([ \"AC/DC\", \"Back in Black\", \"The Dark Side of the Moon\"])\n"
   ]
  },
  {
   "cell_type": "code",
   "execution_count": null,
   "id": "e4f7a879",
   "metadata": {},
   "outputs": [],
   "source": [
    "intersection = {1,2} & {3,4,2,1,5,6,}\n",
    "intersection"
   ]
  },
  {
   "cell_type": "code",
   "execution_count": null,
   "id": "1827aab8",
   "metadata": {},
   "outputs": [],
   "source": [
    "set([1,2,3]).issubset(set(list(range(0,9))))"
   ]
  },
  {
   "cell_type": "markdown",
   "id": "e75b7ea1",
   "metadata": {},
   "source": [
    "# 15/11/23 Class On Dictionary"
   ]
  },
  {
   "cell_type": "code",
   "execution_count": null,
   "id": "d51fa36a",
   "metadata": {},
   "outputs": [],
   "source": [
    "mydict ={'brand': 'Toyota', 'Year': 2000, 'Model': ['Corrola','Matrix', 'Avalon', 'Venza']}\n",
    "print(mydict)"
   ]
  },
  {
   "cell_type": "code",
   "execution_count": null,
   "id": "e28ac904",
   "metadata": {},
   "outputs": [],
   "source": [
    "mydict['Year'] # one way of accessing information from a dictionary using index"
   ]
  },
  {
   "cell_type": "code",
   "execution_count": null,
   "id": "171a8ec0",
   "metadata": {},
   "outputs": [],
   "source": [
    "mydict.get('Model') #second way of accessing information from a dictionary"
   ]
  },
  {
   "cell_type": "code",
   "execution_count": null,
   "id": "f6d13b31",
   "metadata": {},
   "outputs": [],
   "source": [
    "mydict.keys()   #To grab all the keys in a dictionary, run the preecind code"
   ]
  },
  {
   "cell_type": "code",
   "execution_count": null,
   "id": "4d0e2629",
   "metadata": {},
   "outputs": [],
   "source": [
    "mydict.values() #To grab all the values in a dictionary, run the preecind code"
   ]
  },
  {
   "cell_type": "code",
   "execution_count": null,
   "id": "99fda05a",
   "metadata": {},
   "outputs": [],
   "source": [
    "mydict['color'] = 'Red' #Updating the dictionary\n",
    "\n",
    "mydict['car_type'] = ['Salon', 'Ferrari', 'SUV', 'Buggati']"
   ]
  },
  {
   "cell_type": "code",
   "execution_count": null,
   "id": "a94a305d",
   "metadata": {},
   "outputs": [],
   "source": [
    "mydict"
   ]
  },
  {
   "cell_type": "code",
   "execution_count": null,
   "id": "58cd60df",
   "metadata": {},
   "outputs": [],
   "source": [
    "#Another Methode to UPdate a Dictionary\n",
    "\n",
    "mydict.update({'Year': 2023})"
   ]
  },
  {
   "cell_type": "code",
   "execution_count": null,
   "id": "ebda935d",
   "metadata": {},
   "outputs": [],
   "source": [
    "mydict"
   ]
  },
  {
   "cell_type": "code",
   "execution_count": null,
   "id": "7e7233d2",
   "metadata": {},
   "outputs": [],
   "source": [
    "#How to remove a value from the dictionary\n",
    "\n",
    "mydict.pop('color')"
   ]
  },
  {
   "cell_type": "code",
   "execution_count": null,
   "id": "82a16b0b",
   "metadata": {},
   "outputs": [],
   "source": [
    "mydict"
   ]
  },
  {
   "cell_type": "code",
   "execution_count": null,
   "id": "e6558d7b",
   "metadata": {},
   "outputs": [],
   "source": [
    "mydict.popitem()"
   ]
  },
  {
   "cell_type": "code",
   "execution_count": null,
   "id": "116d61a9",
   "metadata": {},
   "outputs": [],
   "source": [
    "del mydict['Year'] "
   ]
  },
  {
   "cell_type": "code",
   "execution_count": null,
   "id": "3255522c",
   "metadata": {},
   "outputs": [],
   "source": [
    "mydict"
   ]
  },
  {
   "cell_type": "code",
   "execution_count": null,
   "id": "0e364cd6",
   "metadata": {},
   "outputs": [],
   "source": [
    "del mydict"
   ]
  },
  {
   "cell_type": "code",
   "execution_count": null,
   "id": "7ee4d34e",
   "metadata": {},
   "outputs": [],
   "source": [
    "mydict"
   ]
  },
  {
   "cell_type": "code",
   "execution_count": null,
   "id": "53a581ab",
   "metadata": {},
   "outputs": [],
   "source": []
  },
  {
   "cell_type": "code",
   "execution_count": null,
   "id": "a15c9fd3",
   "metadata": {},
   "outputs": [],
   "source": []
  },
  {
   "cell_type": "code",
   "execution_count": 3,
   "id": "24e3f205",
   "metadata": {},
   "outputs": [],
   "source": [
    "import pandas as pd"
   ]
  },
  {
   "cell_type": "code",
   "execution_count": 4,
   "id": "18d06eb2",
   "metadata": {},
   "outputs": [],
   "source": [
    "df = pd.read_csv(\"telco_churn.csv\")"
   ]
  },
  {
   "cell_type": "code",
   "execution_count": 5,
   "id": "275aea27",
   "metadata": {},
   "outputs": [
    {
     "data": {
      "text/html": [
       "<div>\n",
       "<style scoped>\n",
       "    .dataframe tbody tr th:only-of-type {\n",
       "        vertical-align: middle;\n",
       "    }\n",
       "\n",
       "    .dataframe tbody tr th {\n",
       "        vertical-align: top;\n",
       "    }\n",
       "\n",
       "    .dataframe thead th {\n",
       "        text-align: right;\n",
       "    }\n",
       "</style>\n",
       "<table border=\"1\" class=\"dataframe\">\n",
       "  <thead>\n",
       "    <tr style=\"text-align: right;\">\n",
       "      <th></th>\n",
       "      <th>State</th>\n",
       "      <th>Account length</th>\n",
       "      <th>Area code</th>\n",
       "      <th>International plan</th>\n",
       "      <th>Voice mail plan</th>\n",
       "      <th>Number vmail messages</th>\n",
       "      <th>Total day minutes</th>\n",
       "      <th>Total day calls</th>\n",
       "      <th>Total day charge</th>\n",
       "      <th>Total eve minutes</th>\n",
       "      <th>Total eve calls</th>\n",
       "      <th>Total eve charge</th>\n",
       "      <th>Total night minutes</th>\n",
       "      <th>Total night calls</th>\n",
       "      <th>Total night charge</th>\n",
       "      <th>Total intl minutes</th>\n",
       "      <th>Total intl calls</th>\n",
       "      <th>Total intl charge</th>\n",
       "      <th>Customer service calls</th>\n",
       "      <th>Churn</th>\n",
       "    </tr>\n",
       "  </thead>\n",
       "  <tbody>\n",
       "    <tr>\n",
       "      <th>0</th>\n",
       "      <td>KS</td>\n",
       "      <td>128</td>\n",
       "      <td>415</td>\n",
       "      <td>No</td>\n",
       "      <td>Yes</td>\n",
       "      <td>25</td>\n",
       "      <td>265.1</td>\n",
       "      <td>110.0</td>\n",
       "      <td>45.07</td>\n",
       "      <td>197.4</td>\n",
       "      <td>99.0</td>\n",
       "      <td>16.78</td>\n",
       "      <td>244.7</td>\n",
       "      <td>91.0</td>\n",
       "      <td>11.01</td>\n",
       "      <td>10.0</td>\n",
       "      <td>3</td>\n",
       "      <td>2.70</td>\n",
       "      <td>1.0</td>\n",
       "      <td>False</td>\n",
       "    </tr>\n",
       "    <tr>\n",
       "      <th>1</th>\n",
       "      <td>OH</td>\n",
       "      <td>107</td>\n",
       "      <td>415</td>\n",
       "      <td>No</td>\n",
       "      <td>Yes</td>\n",
       "      <td>26</td>\n",
       "      <td>161.6</td>\n",
       "      <td>123.0</td>\n",
       "      <td>27.47</td>\n",
       "      <td>195.5</td>\n",
       "      <td>103.0</td>\n",
       "      <td>16.62</td>\n",
       "      <td>254.4</td>\n",
       "      <td>103.0</td>\n",
       "      <td>11.45</td>\n",
       "      <td>13.7</td>\n",
       "      <td>3</td>\n",
       "      <td>3.70</td>\n",
       "      <td>1.0</td>\n",
       "      <td>False</td>\n",
       "    </tr>\n",
       "    <tr>\n",
       "      <th>2</th>\n",
       "      <td>NJ</td>\n",
       "      <td>137</td>\n",
       "      <td>415</td>\n",
       "      <td>No</td>\n",
       "      <td>No</td>\n",
       "      <td>0</td>\n",
       "      <td>243.4</td>\n",
       "      <td>114.0</td>\n",
       "      <td>41.38</td>\n",
       "      <td>121.2</td>\n",
       "      <td>110.0</td>\n",
       "      <td>10.30</td>\n",
       "      <td>162.6</td>\n",
       "      <td>104.0</td>\n",
       "      <td>7.32</td>\n",
       "      <td>12.2</td>\n",
       "      <td>5</td>\n",
       "      <td>3.29</td>\n",
       "      <td>0.0</td>\n",
       "      <td>False</td>\n",
       "    </tr>\n",
       "    <tr>\n",
       "      <th>3</th>\n",
       "      <td>OH</td>\n",
       "      <td>84</td>\n",
       "      <td>408</td>\n",
       "      <td>Yes</td>\n",
       "      <td>No</td>\n",
       "      <td>0</td>\n",
       "      <td>299.4</td>\n",
       "      <td>71.0</td>\n",
       "      <td>50.90</td>\n",
       "      <td>61.9</td>\n",
       "      <td>88.0</td>\n",
       "      <td>5.26</td>\n",
       "      <td>196.9</td>\n",
       "      <td>89.0</td>\n",
       "      <td>8.86</td>\n",
       "      <td>6.6</td>\n",
       "      <td>7</td>\n",
       "      <td>1.78</td>\n",
       "      <td>2.0</td>\n",
       "      <td>False</td>\n",
       "    </tr>\n",
       "    <tr>\n",
       "      <th>4</th>\n",
       "      <td>OK</td>\n",
       "      <td>75</td>\n",
       "      <td>415</td>\n",
       "      <td>Yes</td>\n",
       "      <td>No</td>\n",
       "      <td>0</td>\n",
       "      <td>166.7</td>\n",
       "      <td>113.0</td>\n",
       "      <td>28.34</td>\n",
       "      <td>148.3</td>\n",
       "      <td>122.0</td>\n",
       "      <td>12.61</td>\n",
       "      <td>186.9</td>\n",
       "      <td>121.0</td>\n",
       "      <td>8.41</td>\n",
       "      <td>10.1</td>\n",
       "      <td>3</td>\n",
       "      <td>2.73</td>\n",
       "      <td>3.0</td>\n",
       "      <td>False</td>\n",
       "    </tr>\n",
       "  </tbody>\n",
       "</table>\n",
       "</div>"
      ],
      "text/plain": [
       "  State  Account length  Area code International plan Voice mail plan  \\\n",
       "0    KS             128        415                 No             Yes   \n",
       "1    OH             107        415                 No             Yes   \n",
       "2    NJ             137        415                 No              No   \n",
       "3    OH              84        408                Yes              No   \n",
       "4    OK              75        415                Yes              No   \n",
       "\n",
       "   Number vmail messages  Total day minutes  Total day calls  \\\n",
       "0                     25              265.1            110.0   \n",
       "1                     26              161.6            123.0   \n",
       "2                      0              243.4            114.0   \n",
       "3                      0              299.4             71.0   \n",
       "4                      0              166.7            113.0   \n",
       "\n",
       "   Total day charge  Total eve minutes  Total eve calls  Total eve charge  \\\n",
       "0             45.07              197.4             99.0             16.78   \n",
       "1             27.47              195.5            103.0             16.62   \n",
       "2             41.38              121.2            110.0             10.30   \n",
       "3             50.90               61.9             88.0              5.26   \n",
       "4             28.34              148.3            122.0             12.61   \n",
       "\n",
       "   Total night minutes  Total night calls  Total night charge  \\\n",
       "0                244.7               91.0               11.01   \n",
       "1                254.4              103.0               11.45   \n",
       "2                162.6              104.0                7.32   \n",
       "3                196.9               89.0                8.86   \n",
       "4                186.9              121.0                8.41   \n",
       "\n",
       "   Total intl minutes  Total intl calls  Total intl charge  \\\n",
       "0                10.0                 3               2.70   \n",
       "1                13.7                 3               3.70   \n",
       "2                12.2                 5               3.29   \n",
       "3                 6.6                 7               1.78   \n",
       "4                10.1                 3               2.73   \n",
       "\n",
       "   Customer service calls  Churn  \n",
       "0                     1.0  False  \n",
       "1                     1.0  False  \n",
       "2                     0.0  False  \n",
       "3                     2.0  False  \n",
       "4                     3.0  False  "
      ]
     },
     "execution_count": 5,
     "metadata": {},
     "output_type": "execute_result"
    }
   ],
   "source": [
    "df.head()"
   ]
  },
  {
   "cell_type": "code",
   "execution_count": null,
   "id": "701673b9",
   "metadata": {},
   "outputs": [],
   "source": []
  }
 ],
 "metadata": {
  "kernelspec": {
   "display_name": "Python 3 (ipykernel)",
   "language": "python",
   "name": "python3"
  },
  "language_info": {
   "codemirror_mode": {
    "name": "ipython",
    "version": 3
   },
   "file_extension": ".py",
   "mimetype": "text/x-python",
   "name": "python",
   "nbconvert_exporter": "python",
   "pygments_lexer": "ipython3",
   "version": "3.11.5"
  }
 },
 "nbformat": 4,
 "nbformat_minor": 5
}
