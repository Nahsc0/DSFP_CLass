{
 "cells": [
  {
   "cell_type": "code",
   "execution_count": 20,
   "id": "373b36bc",
   "metadata": {},
   "outputs": [],
   "source": [
    "import numpy as np"
   ]
  },
  {
   "cell_type": "markdown",
   "id": "08107e68",
   "metadata": {},
   "source": [
    "# Custom Array\n",
    "\n",
    "- using the array() method"
   ]
  },
  {
   "cell_type": "code",
   "execution_count": 21,
   "id": "1f170d65",
   "metadata": {},
   "outputs": [],
   "source": [
    "arr = np.array( [[1,2,3,4,5], [1,2,3,4,5], [1,2,3,4,5]] )"
   ]
  },
  {
   "cell_type": "code",
   "execution_count": 22,
   "id": "a7f22ad5",
   "metadata": {},
   "outputs": [
    {
     "data": {
      "text/plain": [
       "array([[1, 2, 3, 4, 5],\n",
       "       [1, 2, 3, 4, 5],\n",
       "       [1, 2, 3, 4, 5]])"
      ]
     },
     "execution_count": 22,
     "metadata": {},
     "output_type": "execute_result"
    }
   ],
   "source": [
    "arr"
   ]
  },
  {
   "cell_type": "code",
   "execution_count": 23,
   "id": "b4256092",
   "metadata": {},
   "outputs": [
    {
     "data": {
      "text/plain": [
       "(3, 5)"
      ]
     },
     "execution_count": 23,
     "metadata": {},
     "output_type": "execute_result"
    }
   ],
   "source": [
    "np.shape(arr)"
   ]
  },
  {
   "cell_type": "code",
   "execution_count": 24,
   "id": "6276f748",
   "metadata": {},
   "outputs": [],
   "source": [
    "ones = np.ones((2,3,5) )"
   ]
  },
  {
   "cell_type": "code",
   "execution_count": 25,
   "id": "8ad4a923",
   "metadata": {},
   "outputs": [
    {
     "data": {
      "text/plain": [
       "array([[[1., 1., 1., 1., 1.],\n",
       "        [1., 1., 1., 1., 1.],\n",
       "        [1., 1., 1., 1., 1.]],\n",
       "\n",
       "       [[1., 1., 1., 1., 1.],\n",
       "        [1., 1., 1., 1., 1.],\n",
       "        [1., 1., 1., 1., 1.]]])"
      ]
     },
     "execution_count": 25,
     "metadata": {},
     "output_type": "execute_result"
    }
   ],
   "source": [
    "ones"
   ]
  },
  {
   "cell_type": "markdown",
   "id": "e75409e5",
   "metadata": {},
   "source": [
    "# Ones Array\n",
    "\n",
    "- Using the ones() method"
   ]
  },
  {
   "cell_type": "code",
   "execution_count": 26,
   "id": "77fae3d0",
   "metadata": {},
   "outputs": [],
   "source": [
    "ones = np.ones((2,2,3) )"
   ]
  },
  {
   "cell_type": "code",
   "execution_count": 27,
   "id": "f595abc7",
   "metadata": {
    "scrolled": true
   },
   "outputs": [
    {
     "data": {
      "text/plain": [
       "array([[[1., 1., 1.],\n",
       "        [1., 1., 1.]],\n",
       "\n",
       "       [[1., 1., 1.],\n",
       "        [1., 1., 1.]]])"
      ]
     },
     "execution_count": 27,
     "metadata": {},
     "output_type": "execute_result"
    }
   ],
   "source": [
    "ones"
   ]
  },
  {
   "cell_type": "code",
   "execution_count": null,
   "id": "68176d2c",
   "metadata": {},
   "outputs": [],
   "source": []
  },
  {
   "cell_type": "code",
   "execution_count": 28,
   "id": "628b42de",
   "metadata": {},
   "outputs": [
    {
     "data": {
      "text/plain": [
       "(2, 2, 3)"
      ]
     },
     "execution_count": 28,
     "metadata": {},
     "output_type": "execute_result"
    }
   ],
   "source": [
    "np.shape(ones)"
   ]
  },
  {
   "cell_type": "markdown",
   "id": "94a23630",
   "metadata": {},
   "source": [
    "# Full Array (i.e; Specified Array)\n",
    "\n",
    "- Using the full() method"
   ]
  },
  {
   "cell_type": "code",
   "execution_count": 29,
   "id": "385f596e",
   "metadata": {},
   "outputs": [],
   "source": [
    "full = np.full((2,3,4), 12)"
   ]
  },
  {
   "cell_type": "code",
   "execution_count": 30,
   "id": "c29b58cb",
   "metadata": {},
   "outputs": [
    {
     "data": {
      "text/plain": [
       "array([[[12, 12, 12, 12],\n",
       "        [12, 12, 12, 12],\n",
       "        [12, 12, 12, 12]],\n",
       "\n",
       "       [[12, 12, 12, 12],\n",
       "        [12, 12, 12, 12],\n",
       "        [12, 12, 12, 12]]])"
      ]
     },
     "execution_count": 30,
     "metadata": {},
     "output_type": "execute_result"
    }
   ],
   "source": [
    "full"
   ]
  },
  {
   "cell_type": "code",
   "execution_count": null,
   "id": "394ce0b5",
   "metadata": {},
   "outputs": [],
   "source": []
  },
  {
   "cell_type": "code",
   "execution_count": 31,
   "id": "a32579e3",
   "metadata": {},
   "outputs": [],
   "source": [
    "zeros = np.zeros((2,2,3))"
   ]
  },
  {
   "cell_type": "code",
   "execution_count": 32,
   "id": "7ef88071",
   "metadata": {},
   "outputs": [
    {
     "data": {
      "text/plain": [
       "array([[[0., 0., 0.],\n",
       "        [0., 0., 0.]],\n",
       "\n",
       "       [[0., 0., 0.],\n",
       "        [0., 0., 0.]]])"
      ]
     },
     "execution_count": 32,
     "metadata": {},
     "output_type": "execute_result"
    }
   ],
   "source": [
    "zeros"
   ]
  },
  {
   "cell_type": "markdown",
   "id": "ee7957c2",
   "metadata": {},
   "source": [
    "# Random Arrays \n",
    "\n",
    "- Using the Random. rand() method"
   ]
  },
  {
   "cell_type": "code",
   "execution_count": null,
   "id": "7525c58e",
   "metadata": {},
   "outputs": [],
   "source": []
  },
  {
   "cell_type": "code",
   "execution_count": null,
   "id": "36024ec4",
   "metadata": {},
   "outputs": [],
   "source": []
  },
  {
   "cell_type": "code",
   "execution_count": 34,
   "id": "1fd1c553",
   "metadata": {},
   "outputs": [],
   "source": [
    "\n",
    "import random\n",
    "samples = random.sample(range(10,50),3)"
   ]
  },
  {
   "cell_type": "code",
   "execution_count": 36,
   "id": "84acdc59",
   "metadata": {},
   "outputs": [
    {
     "data": {
      "text/plain": [
       "[21, 37, 33]"
      ]
     },
     "execution_count": 36,
     "metadata": {},
     "output_type": "execute_result"
    }
   ],
   "source": [
    "samples"
   ]
  },
  {
   "cell_type": "code",
   "execution_count": null,
   "id": "d78a798f",
   "metadata": {},
   "outputs": [],
   "source": []
  },
  {
   "cell_type": "markdown",
   "id": "481d32b8",
   "metadata": {},
   "source": [
    "# Attributes"
   ]
  },
  {
   "cell_type": "code",
   "execution_count": 37,
   "id": "f4e20b6c",
   "metadata": {},
   "outputs": [],
   "source": [
    "import random\n",
    "\n",
    "\n",
    "\n",
    "random = np.random.rand(2,2,3)"
   ]
  },
  {
   "cell_type": "code",
   "execution_count": 38,
   "id": "6a368fc4",
   "metadata": {},
   "outputs": [
    {
     "data": {
      "text/plain": [
       "12"
      ]
     },
     "execution_count": 38,
     "metadata": {},
     "output_type": "execute_result"
    }
   ],
   "source": [
    "#checking the size of an Array\n",
    "\n",
    "\n",
    "random.size"
   ]
  },
  {
   "cell_type": "code",
   "execution_count": 39,
   "id": "03b9d50f",
   "metadata": {},
   "outputs": [
    {
     "data": {
      "text/plain": [
       "(2, 2, 3)"
      ]
     },
     "execution_count": 39,
     "metadata": {},
     "output_type": "execute_result"
    }
   ],
   "source": [
    "random.shape"
   ]
  },
  {
   "cell_type": "code",
   "execution_count": 40,
   "id": "6a763765",
   "metadata": {},
   "outputs": [
    {
     "data": {
      "text/plain": [
       "dtype('float64')"
      ]
     },
     "execution_count": 40,
     "metadata": {},
     "output_type": "execute_result"
    }
   ],
   "source": [
    "random.dtype"
   ]
  },
  {
   "cell_type": "markdown",
   "id": "8ab50107",
   "metadata": {},
   "source": [
    "# SCLICING (METHOD OF RETRIVAL\n"
   ]
  },
  {
   "cell_type": "code",
   "execution_count": 41,
   "id": "979159bf",
   "metadata": {},
   "outputs": [
    {
     "data": {
      "text/plain": [
       "array([[[0.71205894, 0.85479831, 0.08083429],\n",
       "        [0.66012002, 0.03585838, 0.3275794 ]],\n",
       "\n",
       "       [[0.07230105, 0.86236104, 0.73110531],\n",
       "        [0.33800462, 0.57031178, 0.93447257]]])"
      ]
     },
     "execution_count": 41,
     "metadata": {},
     "output_type": "execute_result"
    }
   ],
   "source": [
    "random"
   ]
  },
  {
   "cell_type": "code",
   "execution_count": 42,
   "id": "f09d14a1",
   "metadata": {},
   "outputs": [
    {
     "data": {
      "text/plain": [
       "array([[0.71205894, 0.85479831, 0.08083429],\n",
       "       [0.66012002, 0.03585838, 0.3275794 ]])"
      ]
     },
     "execution_count": 42,
     "metadata": {},
     "output_type": "execute_result"
    }
   ],
   "source": [
    "random[0] #Produce the 1st matrix"
   ]
  },
  {
   "cell_type": "code",
   "execution_count": 43,
   "id": "c80229a5",
   "metadata": {},
   "outputs": [
    {
     "data": {
      "text/plain": [
       "array([[0.07230105, 0.86236104, 0.73110531],\n",
       "       [0.33800462, 0.57031178, 0.93447257]])"
      ]
     },
     "execution_count": 43,
     "metadata": {},
     "output_type": "execute_result"
    }
   ],
   "source": [
    "random[1] #Produce the 2nd matrix"
   ]
  },
  {
   "cell_type": "code",
   "execution_count": null,
   "id": "9612f923",
   "metadata": {},
   "outputs": [],
   "source": []
  },
  {
   "cell_type": "markdown",
   "id": "7e34dca5",
   "metadata": {},
   "source": [
    "# Mulity Sclicing"
   ]
  },
  {
   "cell_type": "code",
   "execution_count": 44,
   "id": "08b77583",
   "metadata": {},
   "outputs": [
    {
     "data": {
      "text/plain": [
       "array([[0.71205894, 0.85479831, 0.08083429]])"
      ]
     },
     "execution_count": 44,
     "metadata": {},
     "output_type": "execute_result"
    }
   ],
   "source": [
    "random[0][0:1] #Printing Information From the First Row of the 1st Matrix"
   ]
  },
  {
   "cell_type": "code",
   "execution_count": 45,
   "id": "36250ca6",
   "metadata": {},
   "outputs": [
    {
     "data": {
      "text/plain": [
       "array([[0.71205894, 0.85479831, 0.08083429],\n",
       "       [0.66012002, 0.03585838, 0.3275794 ]])"
      ]
     },
     "execution_count": 45,
     "metadata": {},
     "output_type": "execute_result"
    }
   ],
   "source": [
    "random[0][0:2]"
   ]
  },
  {
   "cell_type": "code",
   "execution_count": 46,
   "id": "9a4ec1d9",
   "metadata": {
    "scrolled": true
   },
   "outputs": [
    {
     "data": {
      "text/plain": [
       "array([[[0.71205894, 0.85479831, 0.08083429],\n",
       "        [0.66012002, 0.03585838, 0.3275794 ]],\n",
       "\n",
       "       [[0.07230105, 0.86236104, 0.73110531],\n",
       "        [0.33800462, 0.57031178, 0.93447257]]])"
      ]
     },
     "execution_count": 46,
     "metadata": {},
     "output_type": "execute_result"
    }
   ],
   "source": [
    "random"
   ]
  },
  {
   "cell_type": "code",
   "execution_count": 47,
   "id": "d70c12bf",
   "metadata": {},
   "outputs": [
    {
     "data": {
      "text/plain": [
       "0.9344725696800513"
      ]
     },
     "execution_count": 47,
     "metadata": {},
     "output_type": "execute_result"
    }
   ],
   "source": [
    "random[1][1][2]"
   ]
  },
  {
   "cell_type": "markdown",
   "id": "32a474a9",
   "metadata": {},
   "source": [
    "# Reverse Slicing"
   ]
  },
  {
   "cell_type": "code",
   "execution_count": 48,
   "id": "3c737b16",
   "metadata": {},
   "outputs": [
    {
     "data": {
      "text/plain": [
       "array([[0.07230105, 0.86236104, 0.73110531],\n",
       "       [0.33800462, 0.57031178, 0.93447257]])"
      ]
     },
     "execution_count": 48,
     "metadata": {},
     "output_type": "execute_result"
    }
   ],
   "source": [
    "#Slicing From Reverse\n",
    "\n",
    "random[-1]"
   ]
  },
  {
   "cell_type": "markdown",
   "id": "ba52884f",
   "metadata": {},
   "source": [
    "# MATH FUNCTIONS\n",
    "\n",
    "- add()\n",
    "- sub()\n",
    "- multiply()\n",
    "- divide()\n",
    "- dot()"
   ]
  },
  {
   "cell_type": "code",
   "execution_count": 70,
   "id": "43abfca4",
   "metadata": {},
   "outputs": [
    {
     "name": "stdout",
     "output_type": "stream",
     "text": [
      "[[[92 86 71]\n",
      "  [ 8 98 37]\n",
      "  [70 88 73]]\n",
      "\n",
      " [[85  9 25]\n",
      "  [48 57 20]\n",
      "  [74 32 10]]]\n"
     ]
    }
   ],
   "source": [
    "arr_one = np.random.rand(2,3,3) # Generate an array of 10 random numbers between 0 and 1\n",
    "\n",
    "\n",
    "arr_two = np.random.rand(2,3,3)\n",
    "\n",
    "\n",
    "arr_one_as_int = (arr_one * 100).astype(int) \n",
    "\n",
    "print(arr_one_as_int)\n"
   ]
  },
  {
   "cell_type": "code",
   "execution_count": 66,
   "id": "e6125160",
   "metadata": {},
   "outputs": [
    {
     "name": "stdout",
     "output_type": "stream",
     "text": [
      "[[[ 2 71 86]\n",
      "  [12 22 51]\n",
      "  [45 72 35]]\n",
      "\n",
      " [[83 25 98]\n",
      "  [30 20 43]\n",
      "  [10 20 84]]]\n"
     ]
    }
   ],
   "source": [
    "\n",
    "# Multiply by 100 to get a range of integers and convert to int\n",
    "\n",
    "arr_two_as_int = (arr_two * 100).astype(int)  \n",
    "print(arr_two_as_int)\n"
   ]
  },
  {
   "cell_type": "code",
   "execution_count": 71,
   "id": "11f06e88",
   "metadata": {},
   "outputs": [
    {
     "data": {
      "text/plain": [
       "array([[[ 184, 6106, 6106],\n",
       "        [  96, 2156, 1887],\n",
       "        [3150, 6336, 2555]],\n",
       "\n",
       "       [[7055,  225, 2450],\n",
       "        [1440, 1140,  860],\n",
       "        [ 740,  640,  840]]])"
      ]
     },
     "execution_count": 71,
     "metadata": {},
     "output_type": "execute_result"
    }
   ],
   "source": [
    "arr_one_as_int * arr_two_as_int"
   ]
  },
  {
   "cell_type": "raw",
   "id": "35b9aab0",
   "metadata": {},
   "source": []
  },
  {
   "cell_type": "code",
   "execution_count": 72,
   "id": "3f2c4efb",
   "metadata": {},
   "outputs": [
    {
     "data": {
      "text/plain": [
       "array([[[ 94, 157, 157],\n",
       "        [ 20, 120,  88],\n",
       "        [115, 160, 108]],\n",
       "\n",
       "       [[168,  34, 123],\n",
       "        [ 78,  77,  63],\n",
       "        [ 84,  52,  94]]])"
      ]
     },
     "execution_count": 72,
     "metadata": {},
     "output_type": "execute_result"
    }
   ],
   "source": [
    "arr_one_as_int + arr_two_as_int"
   ]
  },
  {
   "cell_type": "code",
   "execution_count": 73,
   "id": "1937f680",
   "metadata": {},
   "outputs": [
    {
     "data": {
      "text/plain": [
       "array([[[ 90,  15, -15],\n",
       "        [ -4,  76, -14],\n",
       "        [ 25,  16,  38]],\n",
       "\n",
       "       [[  2, -16, -73],\n",
       "        [ 18,  37, -23],\n",
       "        [ 64,  12, -74]]])"
      ]
     },
     "execution_count": 73,
     "metadata": {},
     "output_type": "execute_result"
    }
   ],
   "source": [
    "arr_one_as_int - arr_two_as_int"
   ]
  },
  {
   "cell_type": "code",
   "execution_count": 74,
   "id": "4c86980c",
   "metadata": {
    "scrolled": true
   },
   "outputs": [
    {
     "data": {
      "text/plain": [
       "array([[[46,  1,  0],\n",
       "        [ 0,  4,  0],\n",
       "        [ 1,  1,  2]],\n",
       "\n",
       "       [[ 1,  0,  0],\n",
       "        [ 1,  2,  0],\n",
       "        [ 7,  1,  0]]])"
      ]
     },
     "execution_count": 74,
     "metadata": {},
     "output_type": "execute_result"
    }
   ],
   "source": [
    "arr_one_as_int // arr_two_as_int"
   ]
  },
  {
   "cell_type": "code",
   "execution_count": 75,
   "id": "a9cae6d9",
   "metadata": {},
   "outputs": [
    {
     "data": {
      "text/plain": [
       "array([[[[ 4411, 13536, 14783],\n",
       "         [10926,  5440, 18678]],\n",
       "\n",
       "        [[ 2857,  5388,  6981],\n",
       "         [ 3974,  2900,  8106]],\n",
       "\n",
       "        [[ 4481, 12162, 13063],\n",
       "         [ 9180,  4970, 16776]]],\n",
       "\n",
       "\n",
       "       [[[ 1403,  8033,  8644],\n",
       "         [ 7575,  2805, 10817]],\n",
       "\n",
       "        [[ 1680,  6102,  7735],\n",
       "         [ 5894,  2740,  8835]],\n",
       "\n",
       "        [[  982,  6678,  8346],\n",
       "         [ 7202,  2690,  9468]]]])"
      ]
     },
     "execution_count": 75,
     "metadata": {},
     "output_type": "execute_result"
    }
   ],
   "source": [
    "np.dot(arr_one_as_int, arr_two_as_int)"
   ]
  },
  {
   "cell_type": "markdown",
   "id": "8fd65d43",
   "metadata": {},
   "source": [
    "# Statistics Functions\n",
    "\n",
    "- SAMPLEE\n",
    "\n",
    "- sqrt()\n",
    "- ABs()\n",
    "- Power()"
   ]
  },
  {
   "cell_type": "code",
   "execution_count": 76,
   "id": "bbdc5306",
   "metadata": {},
   "outputs": [],
   "source": [
    "sqrt = np.sqrt(25)"
   ]
  },
  {
   "cell_type": "code",
   "execution_count": 77,
   "id": "cea7d5af",
   "metadata": {},
   "outputs": [
    {
     "data": {
      "text/plain": [
       "5.0"
      ]
     },
     "execution_count": 77,
     "metadata": {},
     "output_type": "execute_result"
    }
   ],
   "source": [
    "sqrt"
   ]
  },
  {
   "cell_type": "code",
   "execution_count": 78,
   "id": "270d846e",
   "metadata": {},
   "outputs": [],
   "source": [
    "expo = np.exp(arr_one_as_int)"
   ]
  },
  {
   "cell_type": "code",
   "execution_count": 79,
   "id": "5fe213aa",
   "metadata": {},
   "outputs": [
    {
     "data": {
      "text/plain": [
       "array([[[9.01762841e+39, 2.23524660e+37, 6.83767123e+30],\n",
       "        [2.98095799e+03, 3.63797095e+42, 1.17191424e+16],\n",
       "        [2.51543867e+30, 1.65163625e+38, 5.05239363e+31]],\n",
       "\n",
       "       [[8.22301271e+36, 8.10308393e+03, 7.20048993e+10],\n",
       "        [7.01673591e+20, 5.68572000e+24, 4.85165195e+08],\n",
       "        [1.37338298e+32, 7.89629602e+13, 2.20264658e+04]]])"
      ]
     },
     "execution_count": 79,
     "metadata": {},
     "output_type": "execute_result"
    }
   ],
   "source": [
    "expo"
   ]
  },
  {
   "cell_type": "code",
   "execution_count": 83,
   "id": "6501747d",
   "metadata": {},
   "outputs": [],
   "source": [
    "power = np.power(5,2)"
   ]
  },
  {
   "cell_type": "code",
   "execution_count": 84,
   "id": "90b4d507",
   "metadata": {},
   "outputs": [
    {
     "data": {
      "text/plain": [
       "25"
      ]
     },
     "execution_count": 84,
     "metadata": {},
     "output_type": "execute_result"
    }
   ],
   "source": [
    "power"
   ]
  },
  {
   "cell_type": "code",
   "execution_count": 85,
   "id": "1b179c6b",
   "metadata": {},
   "outputs": [],
   "source": [
    "abs = np.abs(-55)"
   ]
  },
  {
   "cell_type": "code",
   "execution_count": 86,
   "id": "436af88c",
   "metadata": {},
   "outputs": [
    {
     "data": {
      "text/plain": [
       "55"
      ]
     },
     "execution_count": 86,
     "metadata": {},
     "output_type": "execute_result"
    }
   ],
   "source": [
    "abs"
   ]
  },
  {
   "cell_type": "code",
   "execution_count": 91,
   "id": "9ae2a310",
   "metadata": {},
   "outputs": [],
   "source": [
    "log = np.log(103)"
   ]
  },
  {
   "cell_type": "code",
   "execution_count": 92,
   "id": "85df3858",
   "metadata": {},
   "outputs": [
    {
     "data": {
      "text/plain": [
       "4.634728988229636"
      ]
     },
     "execution_count": 92,
     "metadata": {},
     "output_type": "execute_result"
    }
   ],
   "source": [
    "log"
   ]
  },
  {
   "cell_type": "code",
   "execution_count": 93,
   "id": "a25b94c6",
   "metadata": {},
   "outputs": [],
   "source": [
    "min = np.min(arr_one_as_int)"
   ]
  },
  {
   "cell_type": "code",
   "execution_count": 94,
   "id": "c7c7152a",
   "metadata": {},
   "outputs": [
    {
     "data": {
      "text/plain": [
       "8"
      ]
     },
     "execution_count": 94,
     "metadata": {},
     "output_type": "execute_result"
    }
   ],
   "source": [
    "min"
   ]
  },
  {
   "cell_type": "markdown",
   "id": "f1c55659",
   "metadata": {},
   "source": [
    "# Update Our ARRAy"
   ]
  },
  {
   "cell_type": "code",
   "execution_count": 103,
   "id": "6aeb847a",
   "metadata": {},
   "outputs": [],
   "source": [
    "#Single Layer Updates\n",
    "\n",
    "arr_one_as_int[0][0][0] = 700"
   ]
  },
  {
   "cell_type": "code",
   "execution_count": 104,
   "id": "95037a0a",
   "metadata": {},
   "outputs": [
    {
     "data": {
      "text/plain": [
       "array([[[700,  86,  71],\n",
       "        [  8,  98,  37],\n",
       "        [ 70,  88,  73]],\n",
       "\n",
       "       [[ 85,   9,  25],\n",
       "        [ 48,  57,  20],\n",
       "        [ 74,  32,  10]]])"
      ]
     },
     "execution_count": 104,
     "metadata": {},
     "output_type": "execute_result"
    }
   ],
   "source": [
    "arr_one_as_int"
   ]
  },
  {
   "cell_type": "code",
   "execution_count": 108,
   "id": "7d905b13",
   "metadata": {},
   "outputs": [],
   "source": [
    "replace = np.insert(     arr_two_as_int, 1,3000     )"
   ]
  },
  {
   "cell_type": "code",
   "execution_count": 109,
   "id": "912880f3",
   "metadata": {},
   "outputs": [
    {
     "data": {
      "text/plain": [
       "array([   2, 3000,   71,   86,   12,   22,   51,   45,   72,   35,   83,\n",
       "         25,   98,   30,   20,   43,   10,   20,   84])"
      ]
     },
     "execution_count": 109,
     "metadata": {},
     "output_type": "execute_result"
    }
   ],
   "source": [
    "replace"
   ]
  },
  {
   "cell_type": "code",
   "execution_count": 110,
   "id": "49a02fcc",
   "metadata": {},
   "outputs": [],
   "source": [
    "app = np.append( arr_one_as_int, 2000, axis = None)"
   ]
  },
  {
   "cell_type": "code",
   "execution_count": 111,
   "id": "0b40d609",
   "metadata": {},
   "outputs": [
    {
     "data": {
      "text/plain": [
       "array([ 700,   86,   71,    8,   98,   37,   70,   88,   73,   85,    9,\n",
       "         25,   48,   57,   20,   74,   32,   10, 2000])"
      ]
     },
     "execution_count": 111,
     "metadata": {},
     "output_type": "execute_result"
    }
   ],
   "source": [
    "app"
   ]
  },
  {
   "cell_type": "code",
   "execution_count": 113,
   "id": "8cff46a3",
   "metadata": {},
   "outputs": [
    {
     "data": {
      "text/plain": [
       "(2, 3, 3)"
      ]
     },
     "execution_count": 113,
     "metadata": {},
     "output_type": "execute_result"
    }
   ],
   "source": [
    "\n",
    "\n",
    "arr_one_as_int.shape"
   ]
  },
  {
   "cell_type": "code",
   "execution_count": 116,
   "id": "0dc630da",
   "metadata": {},
   "outputs": [],
   "source": [
    "new_list = [300,400,555]"
   ]
  },
  {
   "cell_type": "code",
   "execution_count": 117,
   "id": "26765a61",
   "metadata": {},
   "outputs": [
    {
     "data": {
      "text/plain": [
       "array([700, 300, 400, 555,  86,  71,   8,  98,  37,  70,  88,  73,  85,\n",
       "         9,  25,  48,  57,  20,  74,  32,  10])"
      ]
     },
     "execution_count": 117,
     "metadata": {},
     "output_type": "execute_result"
    }
   ],
   "source": [
    "np.insert(arr_one_as_int, 1, new_list)"
   ]
  },
  {
   "cell_type": "code",
   "execution_count": 125,
   "id": "3462579b",
   "metadata": {},
   "outputs": [
    {
     "data": {
      "text/plain": [
       "array([[700,  86,  71,   8,  98,  37,  70,  88,  73,  85,   9,  25,  48,\n",
       "         57,  20,  74,  32,  10]])"
      ]
     },
     "execution_count": 125,
     "metadata": {},
     "output_type": "execute_result"
    }
   ],
   "source": [
    "np.reshape(arr_one_as_int, (1,18))"
   ]
  },
  {
   "cell_type": "code",
   "execution_count": 126,
   "id": "216c71db",
   "metadata": {},
   "outputs": [
    {
     "data": {
      "text/plain": [
       "array([[[ 2, 71, 86],\n",
       "        [12, 22, 51],\n",
       "        [45, 72, 35]],\n",
       "\n",
       "       [[83, 25, 98],\n",
       "        [30, 20, 43],\n",
       "        [10, 20, 84]]])"
      ]
     },
     "execution_count": 126,
     "metadata": {},
     "output_type": "execute_result"
    }
   ],
   "source": [
    "arr_two_as_int"
   ]
  },
  {
   "cell_type": "code",
   "execution_count": 129,
   "id": "7dd85f4c",
   "metadata": {},
   "outputs": [
    {
     "data": {
      "text/plain": [
       "array([[[ 2, 71, 86],\n",
       "        [45, 72, 35]],\n",
       "\n",
       "       [[83, 25, 98],\n",
       "        [10, 20, 84]]])"
      ]
     },
     "execution_count": 129,
     "metadata": {},
     "output_type": "execute_result"
    }
   ],
   "source": [
    "np.delete(arr_two_as_int, 1, axis=1)"
   ]
  },
  {
   "cell_type": "code",
   "execution_count": 130,
   "id": "eef0162e",
   "metadata": {},
   "outputs": [
    {
     "data": {
      "text/plain": [
       "array([[[ 2, 71, 86],\n",
       "        [12, 22, 51],\n",
       "        [45, 72, 35]],\n",
       "\n",
       "       [[83, 25, 98],\n",
       "        [30, 20, 43],\n",
       "        [10, 20, 84]]])"
      ]
     },
     "execution_count": 130,
     "metadata": {},
     "output_type": "execute_result"
    }
   ],
   "source": [
    "arr_two_as_int"
   ]
  },
  {
   "cell_type": "code",
   "execution_count": 131,
   "id": "49b071eb",
   "metadata": {},
   "outputs": [],
   "source": [
    "np.save('numpy_data', arr_one_as_int)"
   ]
  },
  {
   "cell_type": "code",
   "execution_count": 132,
   "id": "bae6b2f4",
   "metadata": {},
   "outputs": [
    {
     "data": {
      "text/plain": [
       "(2, 3, 3)"
      ]
     },
     "execution_count": 132,
     "metadata": {},
     "output_type": "execute_result"
    }
   ],
   "source": [
    "arr_two_as_int.shape"
   ]
  },
  {
   "cell_type": "code",
   "execution_count": 133,
   "id": "544514d9",
   "metadata": {},
   "outputs": [
    {
     "data": {
      "text/plain": [
       "array([[[ 2, 71, 86],\n",
       "        [12, 22, 51],\n",
       "        [45, 72, 35]],\n",
       "\n",
       "       [[83, 25, 98],\n",
       "        [30, 20, 43],\n",
       "        [10, 20, 84]]])"
      ]
     },
     "execution_count": 133,
     "metadata": {},
     "output_type": "execute_result"
    }
   ],
   "source": [
    "arr_two_as_int"
   ]
  },
  {
   "cell_type": "code",
   "execution_count": 158,
   "id": "95785549",
   "metadata": {},
   "outputs": [],
   "source": [
    "#delete an array\n",
    "\n",
    "deleted =  np.delete(arr_two_as_int, 1, axis=0)"
   ]
  },
  {
   "cell_type": "code",
   "execution_count": 159,
   "id": "42ac3a3a",
   "metadata": {},
   "outputs": [
    {
     "data": {
      "text/plain": [
       "array([[[ 2, 71, 86],\n",
       "        [12, 22, 51],\n",
       "        [45, 72, 35]]])"
      ]
     },
     "execution_count": 159,
     "metadata": {},
     "output_type": "execute_result"
    }
   ],
   "source": [
    "deleted"
   ]
  },
  {
   "cell_type": "code",
   "execution_count": 160,
   "id": "1cb0567b",
   "metadata": {},
   "outputs": [
    {
     "data": {
      "text/plain": [
       "array([[[700,  86,  71],\n",
       "        [  8,  98,  37],\n",
       "        [ 70,  88,  73]],\n",
       "\n",
       "       [[ 85,   9,  25],\n",
       "        [ 48,  57,  20],\n",
       "        [ 74,  32,  10]]])"
      ]
     },
     "execution_count": 160,
     "metadata": {},
     "output_type": "execute_result"
    }
   ],
   "source": [
    "np.load('numpy_data.npy')"
   ]
  },
  {
   "cell_type": "code",
   "execution_count": null,
   "id": "d013695a",
   "metadata": {},
   "outputs": [],
   "source": []
  }
 ],
 "metadata": {
  "kernelspec": {
   "display_name": "Python 3 (ipykernel)",
   "language": "python",
   "name": "python3"
  },
  "language_info": {
   "codemirror_mode": {
    "name": "ipython",
    "version": 3
   },
   "file_extension": ".py",
   "mimetype": "text/x-python",
   "name": "python",
   "nbconvert_exporter": "python",
   "pygments_lexer": "ipython3",
   "version": "3.11.5"
  }
 },
 "nbformat": 4,
 "nbformat_minor": 5
}
