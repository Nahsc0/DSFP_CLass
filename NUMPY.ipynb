{
 "cells": [
  {
   "cell_type": "code",
   "execution_count": 20,
   "id": "43e32f2c",
   "metadata": {},
   "outputs": [],
   "source": [
    "import numpy as np"
   ]
  },
  {
   "cell_type": "markdown",
   "id": "1d2f4412",
   "metadata": {},
   "source": [
    "# Custom Array\n",
    "\n",
    "- using the array() method"
   ]
  },
  {
   "cell_type": "code",
   "execution_count": 21,
   "id": "556831dd",
   "metadata": {},
   "outputs": [],
   "source": [
    "arr = np.array( [[1,2,3,4,5], [1,2,3,4,5], [1,2,3,4,5]] )"
   ]
  },
  {
   "cell_type": "code",
   "execution_count": 22,
   "id": "e5d444d3",
   "metadata": {},
   "outputs": [
    {
     "data": {
      "text/plain": [
       "array([[1, 2, 3, 4, 5],\n",
       "       [1, 2, 3, 4, 5],\n",
       "       [1, 2, 3, 4, 5]])"
      ]
     },
     "execution_count": 22,
     "metadata": {},
     "output_type": "execute_result"
    }
   ],
   "source": [
    "arr"
   ]
  },
  {
   "cell_type": "code",
   "execution_count": 23,
   "id": "6194d523",
   "metadata": {},
   "outputs": [
    {
     "data": {
      "text/plain": [
       "(3, 5)"
      ]
     },
     "execution_count": 23,
     "metadata": {},
     "output_type": "execute_result"
    }
   ],
   "source": [
    "np.shape(arr)"
   ]
  },
  {
   "cell_type": "code",
   "execution_count": 24,
   "id": "6a2eebcb",
   "metadata": {},
   "outputs": [],
   "source": [
    "ones = np.ones((2,3,5) )"
   ]
  },
  {
   "cell_type": "code",
   "execution_count": 25,
   "id": "597b8dfb",
   "metadata": {},
   "outputs": [
    {
     "data": {
      "text/plain": [
       "array([[[1., 1., 1., 1., 1.],\n",
       "        [1., 1., 1., 1., 1.],\n",
       "        [1., 1., 1., 1., 1.]],\n",
       "\n",
       "       [[1., 1., 1., 1., 1.],\n",
       "        [1., 1., 1., 1., 1.],\n",
       "        [1., 1., 1., 1., 1.]]])"
      ]
     },
     "execution_count": 25,
     "metadata": {},
     "output_type": "execute_result"
    }
   ],
   "source": [
    "ones"
   ]
  },
  {
   "cell_type": "markdown",
   "id": "86cd93bd",
   "metadata": {},
   "source": [
    "# Ones Array\n",
    "\n",
    "- Using the ones() method"
   ]
  },
  {
   "cell_type": "code",
   "execution_count": 26,
   "id": "28b3ac4c",
   "metadata": {},
   "outputs": [],
   "source": [
    "ones = np.ones((2,2,3) )"
   ]
  },
  {
   "cell_type": "code",
   "execution_count": 27,
   "id": "212ec059",
   "metadata": {
    "scrolled": true
   },
   "outputs": [
    {
     "data": {
      "text/plain": [
       "array([[[1., 1., 1.],\n",
       "        [1., 1., 1.]],\n",
       "\n",
       "       [[1., 1., 1.],\n",
       "        [1., 1., 1.]]])"
      ]
     },
     "execution_count": 27,
     "metadata": {},
     "output_type": "execute_result"
    }
   ],
   "source": [
    "ones"
   ]
  },
  {
   "cell_type": "code",
   "execution_count": null,
   "id": "10d7ebc8",
   "metadata": {},
   "outputs": [],
   "source": []
  },
  {
   "cell_type": "code",
   "execution_count": 28,
   "id": "f7e6d020",
   "metadata": {},
   "outputs": [
    {
     "data": {
      "text/plain": [
       "(2, 2, 3)"
      ]
     },
     "execution_count": 28,
     "metadata": {},
     "output_type": "execute_result"
    }
   ],
   "source": [
    "np.shape(ones)"
   ]
  },
  {
   "cell_type": "markdown",
   "id": "069a5731",
   "metadata": {},
   "source": [
    "# Full Array (i.e; Specified Array)\n",
    "\n",
    "- Using the full() method"
   ]
  },
  {
   "cell_type": "code",
   "execution_count": 29,
   "id": "cfc631a8",
   "metadata": {},
   "outputs": [],
   "source": [
    "full = np.full((2,3,4), 12)"
   ]
  },
  {
   "cell_type": "code",
   "execution_count": 30,
   "id": "ac1c5d55",
   "metadata": {},
   "outputs": [
    {
     "data": {
      "text/plain": [
       "array([[[12, 12, 12, 12],\n",
       "        [12, 12, 12, 12],\n",
       "        [12, 12, 12, 12]],\n",
       "\n",
       "       [[12, 12, 12, 12],\n",
       "        [12, 12, 12, 12],\n",
       "        [12, 12, 12, 12]]])"
      ]
     },
     "execution_count": 30,
     "metadata": {},
     "output_type": "execute_result"
    }
   ],
   "source": [
    "full"
   ]
  },
  {
   "cell_type": "code",
   "execution_count": null,
   "id": "33b2d5d5",
   "metadata": {},
   "outputs": [],
   "source": []
  },
  {
   "cell_type": "code",
   "execution_count": 31,
   "id": "85b1b348",
   "metadata": {},
   "outputs": [],
   "source": [
    "zeros = np.zeros((2,2,3))"
   ]
  },
  {
   "cell_type": "code",
   "execution_count": 32,
   "id": "a74055a0",
   "metadata": {},
   "outputs": [
    {
     "data": {
      "text/plain": [
       "array([[[0., 0., 0.],\n",
       "        [0., 0., 0.]],\n",
       "\n",
       "       [[0., 0., 0.],\n",
       "        [0., 0., 0.]]])"
      ]
     },
     "execution_count": 32,
     "metadata": {},
     "output_type": "execute_result"
    }
   ],
   "source": [
    "zeros"
   ]
  },
  {
   "cell_type": "markdown",
   "id": "4addf569",
   "metadata": {},
   "source": [
    "# Random Arrays \n",
    "\n",
    "- Using the Random. rand() method"
   ]
  },
  {
   "cell_type": "code",
   "execution_count": null,
   "id": "9492d398",
   "metadata": {},
   "outputs": [],
   "source": []
  },
  {
   "cell_type": "code",
   "execution_count": null,
   "id": "ea5f46bc",
   "metadata": {},
   "outputs": [],
   "source": []
  },
  {
   "cell_type": "code",
   "execution_count": 34,
   "id": "b0f0a4a8",
   "metadata": {},
   "outputs": [],
   "source": [
    "\n",
    "import random\n",
    "samples = random.sample(range(10,50),3)"
   ]
  },
  {
   "cell_type": "code",
   "execution_count": 36,
   "id": "82246bed",
   "metadata": {},
   "outputs": [
    {
     "data": {
      "text/plain": [
       "[21, 37, 33]"
      ]
     },
     "execution_count": 36,
     "metadata": {},
     "output_type": "execute_result"
    }
   ],
   "source": [
    "samples"
   ]
  },
  {
   "cell_type": "code",
   "execution_count": null,
   "id": "816665df",
   "metadata": {},
   "outputs": [],
   "source": []
  },
  {
   "cell_type": "markdown",
   "id": "7f21b0dd",
   "metadata": {},
   "source": [
    "# Attributes"
   ]
  },
  {
   "cell_type": "code",
   "execution_count": 37,
   "id": "25523316",
   "metadata": {},
   "outputs": [],
   "source": [
    "import random\n",
    "\n",
    "\n",
    "\n",
    "random = np.random.rand(2,2,3)"
   ]
  },
  {
   "cell_type": "code",
   "execution_count": 38,
   "id": "e72e5870",
   "metadata": {},
   "outputs": [
    {
     "data": {
      "text/plain": [
       "12"
      ]
     },
     "execution_count": 38,
     "metadata": {},
     "output_type": "execute_result"
    }
   ],
   "source": [
    "#checking the size of an Array\n",
    "\n",
    "\n",
    "random.size"
   ]
  },
  {
   "cell_type": "code",
   "execution_count": 39,
   "id": "9fa46bee",
   "metadata": {},
   "outputs": [
    {
     "data": {
      "text/plain": [
       "(2, 2, 3)"
      ]
     },
     "execution_count": 39,
     "metadata": {},
     "output_type": "execute_result"
    }
   ],
   "source": [
    "random.shape"
   ]
  },
  {
   "cell_type": "code",
   "execution_count": 40,
   "id": "5e3513d4",
   "metadata": {},
   "outputs": [
    {
     "data": {
      "text/plain": [
       "dtype('float64')"
      ]
     },
     "execution_count": 40,
     "metadata": {},
     "output_type": "execute_result"
    }
   ],
   "source": [
    "random.dtype"
   ]
  },
  {
   "cell_type": "markdown",
   "id": "c4936db0",
   "metadata": {},
   "source": [
    "# SCLICING (METHOD OF RETRIVAL\n"
   ]
  },
  {
   "cell_type": "code",
   "execution_count": 41,
   "id": "7196a1af",
   "metadata": {},
   "outputs": [
    {
     "data": {
      "text/plain": [
       "array([[[0.71205894, 0.85479831, 0.08083429],\n",
       "        [0.66012002, 0.03585838, 0.3275794 ]],\n",
       "\n",
       "       [[0.07230105, 0.86236104, 0.73110531],\n",
       "        [0.33800462, 0.57031178, 0.93447257]]])"
      ]
     },
     "execution_count": 41,
     "metadata": {},
     "output_type": "execute_result"
    }
   ],
   "source": [
    "random"
   ]
  },
  {
   "cell_type": "code",
   "execution_count": 42,
   "id": "4675671a",
   "metadata": {},
   "outputs": [
    {
     "data": {
      "text/plain": [
       "array([[0.71205894, 0.85479831, 0.08083429],\n",
       "       [0.66012002, 0.03585838, 0.3275794 ]])"
      ]
     },
     "execution_count": 42,
     "metadata": {},
     "output_type": "execute_result"
    }
   ],
   "source": [
    "random[0] #Produce the 1st matrix"
   ]
  },
  {
   "cell_type": "code",
   "execution_count": 43,
   "id": "7e1af7e2",
   "metadata": {},
   "outputs": [
    {
     "data": {
      "text/plain": [
       "array([[0.07230105, 0.86236104, 0.73110531],\n",
       "       [0.33800462, 0.57031178, 0.93447257]])"
      ]
     },
     "execution_count": 43,
     "metadata": {},
     "output_type": "execute_result"
    }
   ],
   "source": [
    "random[1] #Produce the 2nd matrix"
   ]
  },
  {
   "cell_type": "code",
   "execution_count": null,
   "id": "97c8b872",
   "metadata": {},
   "outputs": [],
   "source": []
  },
  {
   "cell_type": "markdown",
   "id": "1d9cf3d0",
   "metadata": {},
   "source": [
    "# Mulity Sclicing"
   ]
  },
  {
   "cell_type": "code",
   "execution_count": 44,
   "id": "a7ed3a57",
   "metadata": {},
   "outputs": [
    {
     "data": {
      "text/plain": [
       "array([[0.71205894, 0.85479831, 0.08083429]])"
      ]
     },
     "execution_count": 44,
     "metadata": {},
     "output_type": "execute_result"
    }
   ],
   "source": [
    "random[0][0:1] #Printing Information From the First Row of the 1st Matrix"
   ]
  },
  {
   "cell_type": "code",
   "execution_count": 45,
   "id": "c13a857d",
   "metadata": {},
   "outputs": [
    {
     "data": {
      "text/plain": [
       "array([[0.71205894, 0.85479831, 0.08083429],\n",
       "       [0.66012002, 0.03585838, 0.3275794 ]])"
      ]
     },
     "execution_count": 45,
     "metadata": {},
     "output_type": "execute_result"
    }
   ],
   "source": [
    "random[0][0:2]"
   ]
  },
  {
   "cell_type": "code",
   "execution_count": 46,
   "id": "c5c6da48",
   "metadata": {
    "scrolled": true
   },
   "outputs": [
    {
     "data": {
      "text/plain": [
       "array([[[0.71205894, 0.85479831, 0.08083429],\n",
       "        [0.66012002, 0.03585838, 0.3275794 ]],\n",
       "\n",
       "       [[0.07230105, 0.86236104, 0.73110531],\n",
       "        [0.33800462, 0.57031178, 0.93447257]]])"
      ]
     },
     "execution_count": 46,
     "metadata": {},
     "output_type": "execute_result"
    }
   ],
   "source": [
    "random"
   ]
  },
  {
   "cell_type": "code",
   "execution_count": 47,
   "id": "cfa2670f",
   "metadata": {},
   "outputs": [
    {
     "data": {
      "text/plain": [
       "0.9344725696800513"
      ]
     },
     "execution_count": 47,
     "metadata": {},
     "output_type": "execute_result"
    }
   ],
   "source": [
    "random[1][1][2]"
   ]
  },
  {
   "cell_type": "markdown",
   "id": "7e592605",
   "metadata": {},
   "source": [
    "# Reverse Slicing"
   ]
  },
  {
   "cell_type": "code",
   "execution_count": 48,
   "id": "3861df3f",
   "metadata": {},
   "outputs": [
    {
     "data": {
      "text/plain": [
       "array([[0.07230105, 0.86236104, 0.73110531],\n",
       "       [0.33800462, 0.57031178, 0.93447257]])"
      ]
     },
     "execution_count": 48,
     "metadata": {},
     "output_type": "execute_result"
    }
   ],
   "source": [
    "#Slicing From Reverse\n",
    "\n",
    "random[-1]"
   ]
  },
  {
   "cell_type": "markdown",
   "id": "c46fee4a",
   "metadata": {},
   "source": [
    "# MATH FUNCTIONS\n",
    "\n",
    "- add()\n",
    "- sub()\n",
    "- multiply()\n",
    "- divide()\n",
    "- dot()"
   ]
  },
  {
   "cell_type": "code",
   "execution_count": 70,
   "id": "30a28964",
   "metadata": {},
   "outputs": [
    {
     "name": "stdout",
     "output_type": "stream",
     "text": [
      "[[[92 86 71]\n",
      "  [ 8 98 37]\n",
      "  [70 88 73]]\n",
      "\n",
      " [[85  9 25]\n",
      "  [48 57 20]\n",
      "  [74 32 10]]]\n"
     ]
    }
   ],
   "source": [
    "arr_one = np.random.rand(2,3,3) # Generate an array of 10 random numbers between 0 and 1\n",
    "\n",
    "\n",
    "arr_two = np.random.rand(2,3,3)\n",
    "\n",
    "\n",
    "arr_one_as_int = (arr_one * 100).astype(int) \n",
    "\n",
    "print(arr_one_as_int)\n"
   ]
  },
  {
   "cell_type": "code",
   "execution_count": 66,
   "id": "9c840d16",
   "metadata": {},
   "outputs": [
    {
     "name": "stdout",
     "output_type": "stream",
     "text": [
      "[[[ 2 71 86]\n",
      "  [12 22 51]\n",
      "  [45 72 35]]\n",
      "\n",
      " [[83 25 98]\n",
      "  [30 20 43]\n",
      "  [10 20 84]]]\n"
     ]
    }
   ],
   "source": [
    "\n",
    "# Multiply by 100 to get a range of integers and convert to int\n",
    "\n",
    "arr_two_as_int = (arr_two * 100).astype(int)  \n",
    "print(arr_two_as_int)\n"
   ]
  },
  {
   "cell_type": "code",
   "execution_count": 71,
   "id": "1125c240",
   "metadata": {},
   "outputs": [
    {
     "data": {
      "text/plain": [
       "array([[[ 184, 6106, 6106],\n",
       "        [  96, 2156, 1887],\n",
       "        [3150, 6336, 2555]],\n",
       "\n",
       "       [[7055,  225, 2450],\n",
       "        [1440, 1140,  860],\n",
       "        [ 740,  640,  840]]])"
      ]
     },
     "execution_count": 71,
     "metadata": {},
     "output_type": "execute_result"
    }
   ],
   "source": [
    "arr_one_as_int * arr_two_as_int"
   ]
  },
  {
   "cell_type": "raw",
   "id": "07b8bd99",
   "metadata": {},
   "source": []
  },
  {
   "cell_type": "code",
   "execution_count": 72,
   "id": "d3d41860",
   "metadata": {},
   "outputs": [
    {
     "data": {
      "text/plain": [
       "array([[[ 94, 157, 157],\n",
       "        [ 20, 120,  88],\n",
       "        [115, 160, 108]],\n",
       "\n",
       "       [[168,  34, 123],\n",
       "        [ 78,  77,  63],\n",
       "        [ 84,  52,  94]]])"
      ]
     },
     "execution_count": 72,
     "metadata": {},
     "output_type": "execute_result"
    }
   ],
   "source": [
    "arr_one_as_int + arr_two_as_int"
   ]
  },
  {
   "cell_type": "code",
   "execution_count": 73,
   "id": "d60233bb",
   "metadata": {},
   "outputs": [
    {
     "data": {
      "text/plain": [
       "array([[[ 90,  15, -15],\n",
       "        [ -4,  76, -14],\n",
       "        [ 25,  16,  38]],\n",
       "\n",
       "       [[  2, -16, -73],\n",
       "        [ 18,  37, -23],\n",
       "        [ 64,  12, -74]]])"
      ]
     },
     "execution_count": 73,
     "metadata": {},
     "output_type": "execute_result"
    }
   ],
   "source": [
    "arr_one_as_int - arr_two_as_int"
   ]
  },
  {
   "cell_type": "code",
   "execution_count": 74,
   "id": "af274294",
   "metadata": {
    "scrolled": true
   },
   "outputs": [
    {
     "data": {
      "text/plain": [
       "array([[[46,  1,  0],\n",
       "        [ 0,  4,  0],\n",
       "        [ 1,  1,  2]],\n",
       "\n",
       "       [[ 1,  0,  0],\n",
       "        [ 1,  2,  0],\n",
       "        [ 7,  1,  0]]])"
      ]
     },
     "execution_count": 74,
     "metadata": {},
     "output_type": "execute_result"
    }
   ],
   "source": [
    "arr_one_as_int // arr_two_as_int"
   ]
  },
  {
   "cell_type": "code",
   "execution_count": 75,
   "id": "1d0e161a",
   "metadata": {},
   "outputs": [
    {
     "data": {
      "text/plain": [
       "array([[[[ 4411, 13536, 14783],\n",
       "         [10926,  5440, 18678]],\n",
       "\n",
       "        [[ 2857,  5388,  6981],\n",
       "         [ 3974,  2900,  8106]],\n",
       "\n",
       "        [[ 4481, 12162, 13063],\n",
       "         [ 9180,  4970, 16776]]],\n",
       "\n",
       "\n",
       "       [[[ 1403,  8033,  8644],\n",
       "         [ 7575,  2805, 10817]],\n",
       "\n",
       "        [[ 1680,  6102,  7735],\n",
       "         [ 5894,  2740,  8835]],\n",
       "\n",
       "        [[  982,  6678,  8346],\n",
       "         [ 7202,  2690,  9468]]]])"
      ]
     },
     "execution_count": 75,
     "metadata": {},
     "output_type": "execute_result"
    }
   ],
   "source": [
    "np.dot(arr_one_as_int, arr_two_as_int)"
   ]
  },
  {
   "cell_type": "markdown",
   "id": "adac20bf",
   "metadata": {},
   "source": [
    "# Statistics Functions\n",
    "\n",
    "- SAMPLEE\n",
    "\n",
    "- sqrt()\n",
    "- ABs()\n",
    "- Power()"
   ]
  },
  {
   "cell_type": "code",
   "execution_count": 76,
   "id": "d01ace4d",
   "metadata": {},
   "outputs": [],
   "source": [
    "sqrt = np.sqrt(25)"
   ]
  },
  {
   "cell_type": "code",
   "execution_count": 77,
   "id": "54b1e1a4",
   "metadata": {},
   "outputs": [
    {
     "data": {
      "text/plain": [
       "5.0"
      ]
     },
     "execution_count": 77,
     "metadata": {},
     "output_type": "execute_result"
    }
   ],
   "source": [
    "sqrt"
   ]
  },
  {
   "cell_type": "code",
   "execution_count": 78,
   "id": "54f2c18e",
   "metadata": {},
   "outputs": [],
   "source": [
    "expo = np.exp(arr_one_as_int)"
   ]
  },
  {
   "cell_type": "code",
   "execution_count": 79,
   "id": "11a61c87",
   "metadata": {},
   "outputs": [
    {
     "data": {
      "text/plain": [
       "array([[[9.01762841e+39, 2.23524660e+37, 6.83767123e+30],\n",
       "        [2.98095799e+03, 3.63797095e+42, 1.17191424e+16],\n",
       "        [2.51543867e+30, 1.65163625e+38, 5.05239363e+31]],\n",
       "\n",
       "       [[8.22301271e+36, 8.10308393e+03, 7.20048993e+10],\n",
       "        [7.01673591e+20, 5.68572000e+24, 4.85165195e+08],\n",
       "        [1.37338298e+32, 7.89629602e+13, 2.20264658e+04]]])"
      ]
     },
     "execution_count": 79,
     "metadata": {},
     "output_type": "execute_result"
    }
   ],
   "source": [
    "expo"
   ]
  },
  {
   "cell_type": "code",
   "execution_count": 83,
   "id": "5e695dc2",
   "metadata": {},
   "outputs": [],
   "source": [
    "power = np.power(5,2)"
   ]
  },
  {
   "cell_type": "code",
   "execution_count": 84,
   "id": "6f9af7b9",
   "metadata": {},
   "outputs": [
    {
     "data": {
      "text/plain": [
       "25"
      ]
     },
     "execution_count": 84,
     "metadata": {},
     "output_type": "execute_result"
    }
   ],
   "source": [
    "power"
   ]
  },
  {
   "cell_type": "code",
   "execution_count": 85,
   "id": "ed8297af",
   "metadata": {},
   "outputs": [],
   "source": [
    "abs = np.abs(-55)"
   ]
  },
  {
   "cell_type": "code",
   "execution_count": 86,
   "id": "03455fbb",
   "metadata": {},
   "outputs": [
    {
     "data": {
      "text/plain": [
       "55"
      ]
     },
     "execution_count": 86,
     "metadata": {},
     "output_type": "execute_result"
    }
   ],
   "source": [
    "abs"
   ]
  },
  {
   "cell_type": "code",
   "execution_count": 91,
   "id": "cafaec0a",
   "metadata": {},
   "outputs": [],
   "source": [
    "log = np.log(103)"
   ]
  },
  {
   "cell_type": "code",
   "execution_count": 92,
   "id": "a835dd77",
   "metadata": {},
   "outputs": [
    {
     "data": {
      "text/plain": [
       "4.634728988229636"
      ]
     },
     "execution_count": 92,
     "metadata": {},
     "output_type": "execute_result"
    }
   ],
   "source": [
    "log"
   ]
  },
  {
   "cell_type": "code",
   "execution_count": 93,
   "id": "5d980dd7",
   "metadata": {},
   "outputs": [],
   "source": [
    "min = np.min(arr_one_as_int)"
   ]
  },
  {
   "cell_type": "code",
   "execution_count": 94,
   "id": "2feaed70",
   "metadata": {},
   "outputs": [
    {
     "data": {
      "text/plain": [
       "8"
      ]
     },
     "execution_count": 94,
     "metadata": {},
     "output_type": "execute_result"
    }
   ],
   "source": [
    "min"
   ]
  },
  {
   "cell_type": "markdown",
   "id": "4905bd39",
   "metadata": {},
   "source": [
    "# Update Our ARRAy"
   ]
  },
  {
   "cell_type": "code",
   "execution_count": 103,
   "id": "418fc4f3",
   "metadata": {},
   "outputs": [],
   "source": [
    "#Single Layer Updates\n",
    "\n",
    "arr_one_as_int[0][0][0] = 700"
   ]
  },
  {
   "cell_type": "code",
   "execution_count": 104,
   "id": "ab50291a",
   "metadata": {},
   "outputs": [
    {
     "data": {
      "text/plain": [
       "array([[[700,  86,  71],\n",
       "        [  8,  98,  37],\n",
       "        [ 70,  88,  73]],\n",
       "\n",
       "       [[ 85,   9,  25],\n",
       "        [ 48,  57,  20],\n",
       "        [ 74,  32,  10]]])"
      ]
     },
     "execution_count": 104,
     "metadata": {},
     "output_type": "execute_result"
    }
   ],
   "source": [
    "arr_one_as_int"
   ]
  },
  {
   "cell_type": "code",
   "execution_count": 108,
   "id": "a679fe09",
   "metadata": {},
   "outputs": [],
   "source": [
    "replace = np.insert(     arr_two_as_int, 1,3000     )"
   ]
  },
  {
   "cell_type": "code",
   "execution_count": 109,
   "id": "046d72fa",
   "metadata": {},
   "outputs": [
    {
     "data": {
      "text/plain": [
       "array([   2, 3000,   71,   86,   12,   22,   51,   45,   72,   35,   83,\n",
       "         25,   98,   30,   20,   43,   10,   20,   84])"
      ]
     },
     "execution_count": 109,
     "metadata": {},
     "output_type": "execute_result"
    }
   ],
   "source": [
    "replace"
   ]
  },
  {
   "cell_type": "code",
   "execution_count": 110,
   "id": "ae4830e3",
   "metadata": {},
   "outputs": [],
   "source": [
    "app = np.append( arr_one_as_int, 2000, axis = None)"
   ]
  },
  {
   "cell_type": "code",
   "execution_count": 111,
   "id": "110f1afc",
   "metadata": {},
   "outputs": [
    {
     "data": {
      "text/plain": [
       "array([ 700,   86,   71,    8,   98,   37,   70,   88,   73,   85,    9,\n",
       "         25,   48,   57,   20,   74,   32,   10, 2000])"
      ]
     },
     "execution_count": 111,
     "metadata": {},
     "output_type": "execute_result"
    }
   ],
   "source": [
    "app"
   ]
  },
  {
   "cell_type": "code",
   "execution_count": 113,
   "id": "7dfe72cb",
   "metadata": {},
   "outputs": [
    {
     "data": {
      "text/plain": [
       "(2, 3, 3)"
      ]
     },
     "execution_count": 113,
     "metadata": {},
     "output_type": "execute_result"
    }
   ],
   "source": [
    "\n",
    "\n",
    "arr_one_as_int.shape"
   ]
  },
  {
   "cell_type": "code",
   "execution_count": 116,
   "id": "e35fc869",
   "metadata": {},
   "outputs": [],
   "source": [
    "new_list = [300,400,555]"
   ]
  },
  {
   "cell_type": "code",
   "execution_count": 117,
   "id": "129dccba",
   "metadata": {},
   "outputs": [
    {
     "data": {
      "text/plain": [
       "array([700, 300, 400, 555,  86,  71,   8,  98,  37,  70,  88,  73,  85,\n",
       "         9,  25,  48,  57,  20,  74,  32,  10])"
      ]
     },
     "execution_count": 117,
     "metadata": {},
     "output_type": "execute_result"
    }
   ],
   "source": [
    "np.insert(arr_one_as_int, 1, new_list)"
   ]
  },
  {
   "cell_type": "code",
   "execution_count": 125,
   "id": "521f5bb7",
   "metadata": {},
   "outputs": [
    {
     "data": {
      "text/plain": [
       "array([[700,  86,  71,   8,  98,  37,  70,  88,  73,  85,   9,  25,  48,\n",
       "         57,  20,  74,  32,  10]])"
      ]
     },
     "execution_count": 125,
     "metadata": {},
     "output_type": "execute_result"
    }
   ],
   "source": [
    "np.reshape(arr_one_as_int, (1,18))"
   ]
  },
  {
   "cell_type": "code",
   "execution_count": 126,
   "id": "c4f4d38d",
   "metadata": {},
   "outputs": [
    {
     "data": {
      "text/plain": [
       "array([[[ 2, 71, 86],\n",
       "        [12, 22, 51],\n",
       "        [45, 72, 35]],\n",
       "\n",
       "       [[83, 25, 98],\n",
       "        [30, 20, 43],\n",
       "        [10, 20, 84]]])"
      ]
     },
     "execution_count": 126,
     "metadata": {},
     "output_type": "execute_result"
    }
   ],
   "source": [
    "arr_two_as_int"
   ]
  },
  {
   "cell_type": "code",
   "execution_count": 129,
   "id": "b7a50e9c",
   "metadata": {},
   "outputs": [
    {
     "data": {
      "text/plain": [
       "array([[[ 2, 71, 86],\n",
       "        [45, 72, 35]],\n",
       "\n",
       "       [[83, 25, 98],\n",
       "        [10, 20, 84]]])"
      ]
     },
     "execution_count": 129,
     "metadata": {},
     "output_type": "execute_result"
    }
   ],
   "source": [
    "np.delete(arr_two_as_int, 1, axis=1)"
   ]
  },
  {
   "cell_type": "code",
   "execution_count": 130,
   "id": "458d06c3",
   "metadata": {},
   "outputs": [
    {
     "data": {
      "text/plain": [
       "array([[[ 2, 71, 86],\n",
       "        [12, 22, 51],\n",
       "        [45, 72, 35]],\n",
       "\n",
       "       [[83, 25, 98],\n",
       "        [30, 20, 43],\n",
       "        [10, 20, 84]]])"
      ]
     },
     "execution_count": 130,
     "metadata": {},
     "output_type": "execute_result"
    }
   ],
   "source": [
    "arr_two_as_int"
   ]
  },
  {
   "cell_type": "code",
   "execution_count": 131,
   "id": "2166ce0c",
   "metadata": {},
   "outputs": [],
   "source": [
    "np.save('numpy_data', arr_one_as_int)"
   ]
  },
  {
   "cell_type": "code",
   "execution_count": 132,
   "id": "a8d414f6",
   "metadata": {},
   "outputs": [
    {
     "data": {
      "text/plain": [
       "(2, 3, 3)"
      ]
     },
     "execution_count": 132,
     "metadata": {},
     "output_type": "execute_result"
    }
   ],
   "source": [
    "arr_two_as_int.shape"
   ]
  },
  {
   "cell_type": "code",
   "execution_count": 133,
   "id": "c68ee7ac",
   "metadata": {},
   "outputs": [
    {
     "data": {
      "text/plain": [
       "array([[[ 2, 71, 86],\n",
       "        [12, 22, 51],\n",
       "        [45, 72, 35]],\n",
       "\n",
       "       [[83, 25, 98],\n",
       "        [30, 20, 43],\n",
       "        [10, 20, 84]]])"
      ]
     },
     "execution_count": 133,
     "metadata": {},
     "output_type": "execute_result"
    }
   ],
   "source": [
    "arr_two_as_int"
   ]
  },
  {
   "cell_type": "code",
   "execution_count": 158,
   "id": "c4a19eca",
   "metadata": {},
   "outputs": [],
   "source": [
    "#delete an array\n",
    "\n",
    "deleted =  np.delete(arr_two_as_int, 1, axis=0)"
   ]
  },
  {
   "cell_type": "code",
   "execution_count": 159,
   "id": "52a93da3",
   "metadata": {},
   "outputs": [
    {
     "data": {
      "text/plain": [
       "array([[[ 2, 71, 86],\n",
       "        [12, 22, 51],\n",
       "        [45, 72, 35]]])"
      ]
     },
     "execution_count": 159,
     "metadata": {},
     "output_type": "execute_result"
    }
   ],
   "source": [
    "deleted"
   ]
  },
  {
   "cell_type": "code",
   "execution_count": 160,
   "id": "0e6c4c6c",
   "metadata": {},
   "outputs": [
    {
     "data": {
      "text/plain": [
       "array([[[700,  86,  71],\n",
       "        [  8,  98,  37],\n",
       "        [ 70,  88,  73]],\n",
       "\n",
       "       [[ 85,   9,  25],\n",
       "        [ 48,  57,  20],\n",
       "        [ 74,  32,  10]]])"
      ]
     },
     "execution_count": 160,
     "metadata": {},
     "output_type": "execute_result"
    }
   ],
   "source": [
    "np.load('numpy_data.npy')"
   ]
  },
  {
   "cell_type": "code",
   "execution_count": 161,
   "id": "422377f4",
   "metadata": {},
   "outputs": [],
   "source": [
    "a, b = '12'\n",
    "b, c = '34'"
   ]
  },
  {
   "cell_type": "code",
   "execution_count": 162,
   "id": "29c2fbf3",
   "metadata": {},
   "outputs": [
    {
     "name": "stdout",
     "output_type": "stream",
     "text": [
      "134\n"
     ]
    }
   ],
   "source": [
    "print(a + b + c)"
   ]
  },
  {
   "cell_type": "code",
   "execution_count": 163,
   "id": "053d6ba2",
   "metadata": {},
   "outputs": [
    {
     "name": "stdout",
     "output_type": "stream",
     "text": [
      "1\n"
     ]
    }
   ],
   "source": [
    "print(a)"
   ]
  },
  {
   "cell_type": "code",
   "execution_count": 164,
   "id": "3323ef74",
   "metadata": {},
   "outputs": [
    {
     "name": "stdout",
     "output_type": "stream",
     "text": [
      "3\n"
     ]
    }
   ],
   "source": [
    "print(b)"
   ]
  },
  {
   "cell_type": "code",
   "execution_count": 165,
   "id": "7d9c7435",
   "metadata": {},
   "outputs": [
    {
     "name": "stdout",
     "output_type": "stream",
     "text": [
      "4\n"
     ]
    }
   ],
   "source": [
    "print(c)"
   ]
  },
  {
   "cell_type": "code",
   "execution_count": 166,
   "id": "c5014783",
   "metadata": {},
   "outputs": [
    {
     "name": "stdout",
     "output_type": "stream",
     "text": [
      "1 3\n"
     ]
    }
   ],
   "source": [
    "print(a,b)"
   ]
  },
  {
   "cell_type": "code",
   "execution_count": null,
   "id": "7538c3a8",
   "metadata": {},
   "outputs": [],
   "source": []
  }
 ],
 "metadata": {
  "kernelspec": {
   "display_name": "Python 3 (ipykernel)",
   "language": "python",
   "name": "python3"
  },
  "language_info": {
   "codemirror_mode": {
    "name": "ipython",
    "version": 3
   },
   "file_extension": ".py",
   "mimetype": "text/x-python",
   "name": "python",
   "nbconvert_exporter": "python",
   "pygments_lexer": "ipython3",
   "version": "3.11.5"
  }
 },
 "nbformat": 4,
 "nbformat_minor": 5
}
