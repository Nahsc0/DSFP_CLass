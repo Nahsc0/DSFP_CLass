{
 "cells": [
  {
   "cell_type": "code",
   "execution_count": 20,
   "id": "fbddf249",
   "metadata": {},
   "outputs": [],
   "source": [
    "import numpy as np"
   ]
  },
  {
   "cell_type": "markdown",
   "id": "64272eb6",
   "metadata": {},
   "source": [
    "# Custom Array\n",
    "\n",
    "- using the array() method"
   ]
  },
  {
   "cell_type": "code",
   "execution_count": 21,
   "id": "b57952aa",
   "metadata": {},
   "outputs": [],
   "source": [
    "arr = np.array( [[1,2,3,4,5], [1,2,3,4,5], [1,2,3,4,5]] )"
   ]
  },
  {
   "cell_type": "code",
   "execution_count": 22,
   "id": "78a4daa2",
   "metadata": {},
   "outputs": [
    {
     "data": {
      "text/plain": [
       "array([[1, 2, 3, 4, 5],\n",
       "       [1, 2, 3, 4, 5],\n",
       "       [1, 2, 3, 4, 5]])"
      ]
     },
     "execution_count": 22,
     "metadata": {},
     "output_type": "execute_result"
    }
   ],
   "source": [
    "arr"
   ]
  },
  {
   "cell_type": "code",
   "execution_count": 23,
   "id": "27bd030b",
   "metadata": {},
   "outputs": [
    {
     "data": {
      "text/plain": [
       "(3, 5)"
      ]
     },
     "execution_count": 23,
     "metadata": {},
     "output_type": "execute_result"
    }
   ],
   "source": [
    "np.shape(arr)"
   ]
  },
  {
   "cell_type": "code",
   "execution_count": 24,
   "id": "86d46404",
   "metadata": {},
   "outputs": [],
   "source": [
    "ones = np.ones((2,3,5) )"
   ]
  },
  {
   "cell_type": "code",
   "execution_count": 25,
   "id": "68ad6afe",
   "metadata": {},
   "outputs": [
    {
     "data": {
      "text/plain": [
       "array([[[1., 1., 1., 1., 1.],\n",
       "        [1., 1., 1., 1., 1.],\n",
       "        [1., 1., 1., 1., 1.]],\n",
       "\n",
       "       [[1., 1., 1., 1., 1.],\n",
       "        [1., 1., 1., 1., 1.],\n",
       "        [1., 1., 1., 1., 1.]]])"
      ]
     },
     "execution_count": 25,
     "metadata": {},
     "output_type": "execute_result"
    }
   ],
   "source": [
    "ones"
   ]
  },
  {
   "cell_type": "markdown",
   "id": "e9a7b8c0",
   "metadata": {},
   "source": [
    "# Ones Array\n",
    "\n",
    "- Using the ones() method"
   ]
  },
  {
   "cell_type": "code",
   "execution_count": 26,
   "id": "618634d8",
   "metadata": {},
   "outputs": [],
   "source": [
    "ones = np.ones((2,2,3) )"
   ]
  },
  {
   "cell_type": "code",
   "execution_count": 27,
   "id": "26ab4ebe",
   "metadata": {
    "scrolled": true
   },
   "outputs": [
    {
     "data": {
      "text/plain": [
       "array([[[1., 1., 1.],\n",
       "        [1., 1., 1.]],\n",
       "\n",
       "       [[1., 1., 1.],\n",
       "        [1., 1., 1.]]])"
      ]
     },
     "execution_count": 27,
     "metadata": {},
     "output_type": "execute_result"
    }
   ],
   "source": [
    "ones"
   ]
  },
  {
   "cell_type": "code",
   "execution_count": null,
   "id": "b1832829",
   "metadata": {},
   "outputs": [],
   "source": []
  },
  {
   "cell_type": "code",
   "execution_count": 28,
   "id": "5999f8f5",
   "metadata": {},
   "outputs": [
    {
     "data": {
      "text/plain": [
       "(2, 2, 3)"
      ]
     },
     "execution_count": 28,
     "metadata": {},
     "output_type": "execute_result"
    }
   ],
   "source": [
    "np.shape(ones)"
   ]
  },
  {
   "cell_type": "markdown",
   "id": "9087c37f",
   "metadata": {},
   "source": [
    "# Full Array (i.e; Specified Array)\n",
    "\n",
    "- Using the full() method"
   ]
  },
  {
   "cell_type": "code",
   "execution_count": 29,
   "id": "3e5fea26",
   "metadata": {},
   "outputs": [],
   "source": [
    "full = np.full((2,3,4), 12)"
   ]
  },
  {
   "cell_type": "code",
   "execution_count": 30,
   "id": "940296ca",
   "metadata": {},
   "outputs": [
    {
     "data": {
      "text/plain": [
       "array([[[12, 12, 12, 12],\n",
       "        [12, 12, 12, 12],\n",
       "        [12, 12, 12, 12]],\n",
       "\n",
       "       [[12, 12, 12, 12],\n",
       "        [12, 12, 12, 12],\n",
       "        [12, 12, 12, 12]]])"
      ]
     },
     "execution_count": 30,
     "metadata": {},
     "output_type": "execute_result"
    }
   ],
   "source": [
    "full"
   ]
  },
  {
   "cell_type": "code",
   "execution_count": null,
   "id": "b033e0bc",
   "metadata": {},
   "outputs": [],
   "source": []
  },
  {
   "cell_type": "code",
   "execution_count": 31,
   "id": "5c1d518f",
   "metadata": {},
   "outputs": [],
   "source": [
    "zeros = np.zeros((2,2,3))"
   ]
  },
  {
   "cell_type": "code",
   "execution_count": 32,
   "id": "fc3613a1",
   "metadata": {},
   "outputs": [
    {
     "data": {
      "text/plain": [
       "array([[[0., 0., 0.],\n",
       "        [0., 0., 0.]],\n",
       "\n",
       "       [[0., 0., 0.],\n",
       "        [0., 0., 0.]]])"
      ]
     },
     "execution_count": 32,
     "metadata": {},
     "output_type": "execute_result"
    }
   ],
   "source": [
    "zeros"
   ]
  },
  {
   "cell_type": "markdown",
   "id": "90b3c5bd",
   "metadata": {},
   "source": [
    "# Random Arrays \n",
    "\n",
    "- Using the Random. rand() method"
   ]
  },
  {
   "cell_type": "code",
   "execution_count": null,
   "id": "8ced746c",
   "metadata": {},
   "outputs": [],
   "source": []
  },
  {
   "cell_type": "code",
   "execution_count": null,
   "id": "37e294d2",
   "metadata": {},
   "outputs": [],
   "source": []
  },
  {
   "cell_type": "code",
   "execution_count": 34,
   "id": "188699c0",
   "metadata": {},
   "outputs": [],
   "source": [
    "\n",
    "import random\n",
    "samples = random.sample(range(10,50),3)"
   ]
  },
  {
   "cell_type": "code",
   "execution_count": 36,
   "id": "fe3b8e74",
   "metadata": {},
   "outputs": [
    {
     "data": {
      "text/plain": [
       "[21, 37, 33]"
      ]
     },
     "execution_count": 36,
     "metadata": {},
     "output_type": "execute_result"
    }
   ],
   "source": [
    "samples"
   ]
  },
  {
   "cell_type": "code",
   "execution_count": null,
   "id": "fb28334c",
   "metadata": {},
   "outputs": [],
   "source": []
  },
  {
   "cell_type": "markdown",
   "id": "5cec7bd8",
   "metadata": {},
   "source": [
    "# Attributes"
   ]
  },
  {
   "cell_type": "code",
   "execution_count": 37,
   "id": "e4247c60",
   "metadata": {},
   "outputs": [],
   "source": [
    "import random\n",
    "\n",
    "\n",
    "\n",
    "random = np.random.rand(2,2,3)"
   ]
  },
  {
   "cell_type": "code",
   "execution_count": 38,
   "id": "810c59bd",
   "metadata": {},
   "outputs": [
    {
     "data": {
      "text/plain": [
       "12"
      ]
     },
     "execution_count": 38,
     "metadata": {},
     "output_type": "execute_result"
    }
   ],
   "source": [
    "#checking the size of an Array\n",
    "\n",
    "\n",
    "random.size"
   ]
  },
  {
   "cell_type": "code",
   "execution_count": 39,
   "id": "6bdf8d33",
   "metadata": {},
   "outputs": [
    {
     "data": {
      "text/plain": [
       "(2, 2, 3)"
      ]
     },
     "execution_count": 39,
     "metadata": {},
     "output_type": "execute_result"
    }
   ],
   "source": [
    "random.shape"
   ]
  },
  {
   "cell_type": "code",
   "execution_count": 40,
   "id": "a66ca19b",
   "metadata": {},
   "outputs": [
    {
     "data": {
      "text/plain": [
       "dtype('float64')"
      ]
     },
     "execution_count": 40,
     "metadata": {},
     "output_type": "execute_result"
    }
   ],
   "source": [
    "random.dtype"
   ]
  },
  {
   "cell_type": "markdown",
   "id": "5e61cb69",
   "metadata": {},
   "source": [
    "# SCLICING (METHOD OF RETRIVAL\n"
   ]
  },
  {
   "cell_type": "code",
   "execution_count": 41,
   "id": "003e955a",
   "metadata": {},
   "outputs": [
    {
     "data": {
      "text/plain": [
       "array([[[0.71205894, 0.85479831, 0.08083429],\n",
       "        [0.66012002, 0.03585838, 0.3275794 ]],\n",
       "\n",
       "       [[0.07230105, 0.86236104, 0.73110531],\n",
       "        [0.33800462, 0.57031178, 0.93447257]]])"
      ]
     },
     "execution_count": 41,
     "metadata": {},
     "output_type": "execute_result"
    }
   ],
   "source": [
    "random"
   ]
  },
  {
   "cell_type": "code",
   "execution_count": 42,
   "id": "1a07f00a",
   "metadata": {},
   "outputs": [
    {
     "data": {
      "text/plain": [
       "array([[0.71205894, 0.85479831, 0.08083429],\n",
       "       [0.66012002, 0.03585838, 0.3275794 ]])"
      ]
     },
     "execution_count": 42,
     "metadata": {},
     "output_type": "execute_result"
    }
   ],
   "source": [
    "random[0] #Produce the 1st matrix"
   ]
  },
  {
   "cell_type": "code",
   "execution_count": 43,
   "id": "caf880f1",
   "metadata": {},
   "outputs": [
    {
     "data": {
      "text/plain": [
       "array([[0.07230105, 0.86236104, 0.73110531],\n",
       "       [0.33800462, 0.57031178, 0.93447257]])"
      ]
     },
     "execution_count": 43,
     "metadata": {},
     "output_type": "execute_result"
    }
   ],
   "source": [
    "random[1] #Produce the 2nd matrix"
   ]
  },
  {
   "cell_type": "code",
   "execution_count": null,
   "id": "b59c6b00",
   "metadata": {},
   "outputs": [],
   "source": []
  },
  {
   "cell_type": "markdown",
   "id": "6ed0b69f",
   "metadata": {},
   "source": [
    "# Mulity Sclicing"
   ]
  },
  {
   "cell_type": "code",
   "execution_count": 44,
   "id": "c8f37ac8",
   "metadata": {},
   "outputs": [
    {
     "data": {
      "text/plain": [
       "array([[0.71205894, 0.85479831, 0.08083429]])"
      ]
     },
     "execution_count": 44,
     "metadata": {},
     "output_type": "execute_result"
    }
   ],
   "source": [
    "random[0][0:1] #Printing Information From the First Row of the 1st Matrix"
   ]
  },
  {
   "cell_type": "code",
   "execution_count": 45,
   "id": "95763e06",
   "metadata": {},
   "outputs": [
    {
     "data": {
      "text/plain": [
       "array([[0.71205894, 0.85479831, 0.08083429],\n",
       "       [0.66012002, 0.03585838, 0.3275794 ]])"
      ]
     },
     "execution_count": 45,
     "metadata": {},
     "output_type": "execute_result"
    }
   ],
   "source": [
    "random[0][0:2]"
   ]
  },
  {
   "cell_type": "code",
   "execution_count": 46,
   "id": "34f8f3d2",
   "metadata": {
    "scrolled": true
   },
   "outputs": [
    {
     "data": {
      "text/plain": [
       "array([[[0.71205894, 0.85479831, 0.08083429],\n",
       "        [0.66012002, 0.03585838, 0.3275794 ]],\n",
       "\n",
       "       [[0.07230105, 0.86236104, 0.73110531],\n",
       "        [0.33800462, 0.57031178, 0.93447257]]])"
      ]
     },
     "execution_count": 46,
     "metadata": {},
     "output_type": "execute_result"
    }
   ],
   "source": [
    "random"
   ]
  },
  {
   "cell_type": "code",
   "execution_count": 47,
   "id": "c11647d9",
   "metadata": {},
   "outputs": [
    {
     "data": {
      "text/plain": [
       "0.9344725696800513"
      ]
     },
     "execution_count": 47,
     "metadata": {},
     "output_type": "execute_result"
    }
   ],
   "source": [
    "random[1][1][2]"
   ]
  },
  {
   "cell_type": "markdown",
   "id": "bf12554d",
   "metadata": {},
   "source": [
    "# Reverse Slicing"
   ]
  },
  {
   "cell_type": "code",
   "execution_count": 48,
   "id": "9891c021",
   "metadata": {},
   "outputs": [
    {
     "data": {
      "text/plain": [
       "array([[0.07230105, 0.86236104, 0.73110531],\n",
       "       [0.33800462, 0.57031178, 0.93447257]])"
      ]
     },
     "execution_count": 48,
     "metadata": {},
     "output_type": "execute_result"
    }
   ],
   "source": [
    "#Slicing From Reverse\n",
    "\n",
    "random[-1]"
   ]
  },
  {
   "cell_type": "markdown",
   "id": "534a154b",
   "metadata": {},
   "source": [
    "# MATH FUNCTIONS\n",
    "\n",
    "- add()\n",
    "- sub()\n",
    "- multiply()\n",
    "- divide()\n",
    "- dot()"
   ]
  },
  {
   "cell_type": "code",
   "execution_count": 70,
   "id": "0341dc58",
   "metadata": {},
   "outputs": [
    {
     "name": "stdout",
     "output_type": "stream",
     "text": [
      "[[[92 86 71]\n",
      "  [ 8 98 37]\n",
      "  [70 88 73]]\n",
      "\n",
      " [[85  9 25]\n",
      "  [48 57 20]\n",
      "  [74 32 10]]]\n"
     ]
    }
   ],
   "source": [
    "arr_one = np.random.rand(2,3,3) # Generate an array of 10 random numbers between 0 and 1\n",
    "\n",
    "\n",
    "arr_two = np.random.rand(2,3,3)\n",
    "\n",
    "\n",
    "arr_one_as_int = (arr_one * 100).astype(int) \n",
    "\n",
    "print(arr_one_as_int)\n"
   ]
  },
  {
   "cell_type": "code",
   "execution_count": 66,
   "id": "7ec51fb8",
   "metadata": {},
   "outputs": [
    {
     "name": "stdout",
     "output_type": "stream",
     "text": [
      "[[[ 2 71 86]\n",
      "  [12 22 51]\n",
      "  [45 72 35]]\n",
      "\n",
      " [[83 25 98]\n",
      "  [30 20 43]\n",
      "  [10 20 84]]]\n"
     ]
    }
   ],
   "source": [
    "\n",
    "# Multiply by 100 to get a range of integers and convert to int\n",
    "\n",
    "arr_two_as_int = (arr_two * 100).astype(int)  \n",
    "print(arr_two_as_int)\n"
   ]
  },
  {
   "cell_type": "code",
   "execution_count": 71,
   "id": "2b539811",
   "metadata": {},
   "outputs": [
    {
     "data": {
      "text/plain": [
       "array([[[ 184, 6106, 6106],\n",
       "        [  96, 2156, 1887],\n",
       "        [3150, 6336, 2555]],\n",
       "\n",
       "       [[7055,  225, 2450],\n",
       "        [1440, 1140,  860],\n",
       "        [ 740,  640,  840]]])"
      ]
     },
     "execution_count": 71,
     "metadata": {},
     "output_type": "execute_result"
    }
   ],
   "source": [
    "arr_one_as_int * arr_two_as_int"
   ]
  },
  {
   "cell_type": "raw",
   "id": "46a45860",
   "metadata": {},
   "source": []
  },
  {
   "cell_type": "code",
   "execution_count": 72,
   "id": "7dea365f",
   "metadata": {},
   "outputs": [
    {
     "data": {
      "text/plain": [
       "array([[[ 94, 157, 157],\n",
       "        [ 20, 120,  88],\n",
       "        [115, 160, 108]],\n",
       "\n",
       "       [[168,  34, 123],\n",
       "        [ 78,  77,  63],\n",
       "        [ 84,  52,  94]]])"
      ]
     },
     "execution_count": 72,
     "metadata": {},
     "output_type": "execute_result"
    }
   ],
   "source": [
    "arr_one_as_int + arr_two_as_int"
   ]
  },
  {
   "cell_type": "code",
   "execution_count": 73,
   "id": "c95fd551",
   "metadata": {},
   "outputs": [
    {
     "data": {
      "text/plain": [
       "array([[[ 90,  15, -15],\n",
       "        [ -4,  76, -14],\n",
       "        [ 25,  16,  38]],\n",
       "\n",
       "       [[  2, -16, -73],\n",
       "        [ 18,  37, -23],\n",
       "        [ 64,  12, -74]]])"
      ]
     },
     "execution_count": 73,
     "metadata": {},
     "output_type": "execute_result"
    }
   ],
   "source": [
    "arr_one_as_int - arr_two_as_int"
   ]
  },
  {
   "cell_type": "code",
   "execution_count": 74,
   "id": "be61ba29",
   "metadata": {
    "scrolled": true
   },
   "outputs": [
    {
     "data": {
      "text/plain": [
       "array([[[46,  1,  0],\n",
       "        [ 0,  4,  0],\n",
       "        [ 1,  1,  2]],\n",
       "\n",
       "       [[ 1,  0,  0],\n",
       "        [ 1,  2,  0],\n",
       "        [ 7,  1,  0]]])"
      ]
     },
     "execution_count": 74,
     "metadata": {},
     "output_type": "execute_result"
    }
   ],
   "source": [
    "arr_one_as_int // arr_two_as_int"
   ]
  },
  {
   "cell_type": "code",
   "execution_count": 75,
   "id": "32842980",
   "metadata": {},
   "outputs": [
    {
     "data": {
      "text/plain": [
       "array([[[[ 4411, 13536, 14783],\n",
       "         [10926,  5440, 18678]],\n",
       "\n",
       "        [[ 2857,  5388,  6981],\n",
       "         [ 3974,  2900,  8106]],\n",
       "\n",
       "        [[ 4481, 12162, 13063],\n",
       "         [ 9180,  4970, 16776]]],\n",
       "\n",
       "\n",
       "       [[[ 1403,  8033,  8644],\n",
       "         [ 7575,  2805, 10817]],\n",
       "\n",
       "        [[ 1680,  6102,  7735],\n",
       "         [ 5894,  2740,  8835]],\n",
       "\n",
       "        [[  982,  6678,  8346],\n",
       "         [ 7202,  2690,  9468]]]])"
      ]
     },
     "execution_count": 75,
     "metadata": {},
     "output_type": "execute_result"
    }
   ],
   "source": [
    "np.dot(arr_one_as_int, arr_two_as_int)"
   ]
  },
  {
   "cell_type": "markdown",
   "id": "10380ddc",
   "metadata": {},
   "source": [
    "# Statistics Functions\n",
    "\n",
    "- SAMPLEE\n",
    "\n",
    "- sqrt()\n",
    "- ABs()\n",
    "- Power()"
   ]
  },
  {
   "cell_type": "code",
   "execution_count": 76,
   "id": "a010c223",
   "metadata": {},
   "outputs": [],
   "source": [
    "sqrt = np.sqrt(25)"
   ]
  },
  {
   "cell_type": "code",
   "execution_count": 77,
   "id": "2b0a17d2",
   "metadata": {},
   "outputs": [
    {
     "data": {
      "text/plain": [
       "5.0"
      ]
     },
     "execution_count": 77,
     "metadata": {},
     "output_type": "execute_result"
    }
   ],
   "source": [
    "sqrt"
   ]
  },
  {
   "cell_type": "code",
   "execution_count": 78,
   "id": "4d106753",
   "metadata": {},
   "outputs": [],
   "source": [
    "expo = np.exp(arr_one_as_int)"
   ]
  },
  {
   "cell_type": "code",
   "execution_count": 79,
   "id": "f01c2c20",
   "metadata": {},
   "outputs": [
    {
     "data": {
      "text/plain": [
       "array([[[9.01762841e+39, 2.23524660e+37, 6.83767123e+30],\n",
       "        [2.98095799e+03, 3.63797095e+42, 1.17191424e+16],\n",
       "        [2.51543867e+30, 1.65163625e+38, 5.05239363e+31]],\n",
       "\n",
       "       [[8.22301271e+36, 8.10308393e+03, 7.20048993e+10],\n",
       "        [7.01673591e+20, 5.68572000e+24, 4.85165195e+08],\n",
       "        [1.37338298e+32, 7.89629602e+13, 2.20264658e+04]]])"
      ]
     },
     "execution_count": 79,
     "metadata": {},
     "output_type": "execute_result"
    }
   ],
   "source": [
    "expo"
   ]
  },
  {
   "cell_type": "code",
   "execution_count": 83,
   "id": "35553304",
   "metadata": {},
   "outputs": [],
   "source": [
    "power = np.power(5,2)"
   ]
  },
  {
   "cell_type": "code",
   "execution_count": 84,
   "id": "0bb40ff1",
   "metadata": {},
   "outputs": [
    {
     "data": {
      "text/plain": [
       "25"
      ]
     },
     "execution_count": 84,
     "metadata": {},
     "output_type": "execute_result"
    }
   ],
   "source": [
    "power"
   ]
  },
  {
   "cell_type": "code",
   "execution_count": 85,
   "id": "7d270057",
   "metadata": {},
   "outputs": [],
   "source": [
    "abs = np.abs(-55)"
   ]
  },
  {
   "cell_type": "code",
   "execution_count": 86,
   "id": "3e81546b",
   "metadata": {},
   "outputs": [
    {
     "data": {
      "text/plain": [
       "55"
      ]
     },
     "execution_count": 86,
     "metadata": {},
     "output_type": "execute_result"
    }
   ],
   "source": [
    "abs"
   ]
  },
  {
   "cell_type": "code",
   "execution_count": 91,
   "id": "3c14511f",
   "metadata": {},
   "outputs": [],
   "source": [
    "log = np.log(103)"
   ]
  },
  {
   "cell_type": "code",
   "execution_count": 92,
   "id": "f052cb07",
   "metadata": {},
   "outputs": [
    {
     "data": {
      "text/plain": [
       "4.634728988229636"
      ]
     },
     "execution_count": 92,
     "metadata": {},
     "output_type": "execute_result"
    }
   ],
   "source": [
    "log"
   ]
  },
  {
   "cell_type": "code",
   "execution_count": 93,
   "id": "c7eaf103",
   "metadata": {},
   "outputs": [],
   "source": [
    "min = np.min(arr_one_as_int)"
   ]
  },
  {
   "cell_type": "code",
   "execution_count": 94,
   "id": "7cdb1165",
   "metadata": {},
   "outputs": [
    {
     "data": {
      "text/plain": [
       "8"
      ]
     },
     "execution_count": 94,
     "metadata": {},
     "output_type": "execute_result"
    }
   ],
   "source": [
    "min"
   ]
  },
  {
   "cell_type": "markdown",
   "id": "845685b5",
   "metadata": {},
   "source": [
    "# Update Our ARRAy"
   ]
  },
  {
   "cell_type": "code",
   "execution_count": 103,
   "id": "f26804e3",
   "metadata": {},
   "outputs": [],
   "source": [
    "#Single Layer Updates\n",
    "\n",
    "arr_one_as_int[0][0][0] = 700"
   ]
  },
  {
   "cell_type": "code",
   "execution_count": 104,
   "id": "92f6f02c",
   "metadata": {},
   "outputs": [
    {
     "data": {
      "text/plain": [
       "array([[[700,  86,  71],\n",
       "        [  8,  98,  37],\n",
       "        [ 70,  88,  73]],\n",
       "\n",
       "       [[ 85,   9,  25],\n",
       "        [ 48,  57,  20],\n",
       "        [ 74,  32,  10]]])"
      ]
     },
     "execution_count": 104,
     "metadata": {},
     "output_type": "execute_result"
    }
   ],
   "source": [
    "arr_one_as_int"
   ]
  },
  {
   "cell_type": "code",
   "execution_count": 108,
   "id": "c01382b7",
   "metadata": {},
   "outputs": [],
   "source": [
    "replace = np.insert(     arr_two_as_int, 1,3000     )"
   ]
  },
  {
   "cell_type": "code",
   "execution_count": 109,
   "id": "f56f08c5",
   "metadata": {},
   "outputs": [
    {
     "data": {
      "text/plain": [
       "array([   2, 3000,   71,   86,   12,   22,   51,   45,   72,   35,   83,\n",
       "         25,   98,   30,   20,   43,   10,   20,   84])"
      ]
     },
     "execution_count": 109,
     "metadata": {},
     "output_type": "execute_result"
    }
   ],
   "source": [
    "replace"
   ]
  },
  {
   "cell_type": "code",
   "execution_count": 110,
   "id": "a96d9721",
   "metadata": {},
   "outputs": [],
   "source": [
    "app = np.append( arr_one_as_int, 2000, axis = None)"
   ]
  },
  {
   "cell_type": "code",
   "execution_count": 111,
   "id": "61fcd50b",
   "metadata": {},
   "outputs": [
    {
     "data": {
      "text/plain": [
       "array([ 700,   86,   71,    8,   98,   37,   70,   88,   73,   85,    9,\n",
       "         25,   48,   57,   20,   74,   32,   10, 2000])"
      ]
     },
     "execution_count": 111,
     "metadata": {},
     "output_type": "execute_result"
    }
   ],
   "source": [
    "app"
   ]
  },
  {
   "cell_type": "code",
   "execution_count": 113,
   "id": "6176ec0a",
   "metadata": {},
   "outputs": [
    {
     "data": {
      "text/plain": [
       "(2, 3, 3)"
      ]
     },
     "execution_count": 113,
     "metadata": {},
     "output_type": "execute_result"
    }
   ],
   "source": [
    "\n",
    "\n",
    "arr_one_as_int.shape"
   ]
  },
  {
   "cell_type": "code",
   "execution_count": 116,
   "id": "82011df0",
   "metadata": {},
   "outputs": [],
   "source": [
    "new_list = [300,400,555]"
   ]
  },
  {
   "cell_type": "code",
   "execution_count": 117,
   "id": "5d7e3541",
   "metadata": {},
   "outputs": [
    {
     "data": {
      "text/plain": [
       "array([700, 300, 400, 555,  86,  71,   8,  98,  37,  70,  88,  73,  85,\n",
       "         9,  25,  48,  57,  20,  74,  32,  10])"
      ]
     },
     "execution_count": 117,
     "metadata": {},
     "output_type": "execute_result"
    }
   ],
   "source": [
    "np.insert(arr_one_as_int, 1, new_list)"
   ]
  },
  {
   "cell_type": "code",
   "execution_count": 120,
   "id": "57728e39",
   "metadata": {},
   "outputs": [
    {
     "data": {
      "text/plain": [
       "array([[700,  86,  71,   8,  98,  37,  70,  88,  73,  85,   9,  25,  48,\n",
       "         57,  20,  74,  32,  10]])"
      ]
     },
     "execution_count": 120,
     "metadata": {},
     "output_type": "execute_result"
    }
   ],
   "source": [
    "np.reshape(arr_one_as_int, (1,18))"
   ]
  },
  {
   "cell_type": "code",
   "execution_count": null,
   "id": "03206bd6",
   "metadata": {},
   "outputs": [],
   "source": []
  }
 ],
 "metadata": {
  "kernelspec": {
   "display_name": "Python 3 (ipykernel)",
   "language": "python",
   "name": "python3"
  },
  "language_info": {
   "codemirror_mode": {
    "name": "ipython",
    "version": 3
   },
   "file_extension": ".py",
   "mimetype": "text/x-python",
   "name": "python",
   "nbconvert_exporter": "python",
   "pygments_lexer": "ipython3",
   "version": "3.11.5"
  }
 },
 "nbformat": 4,
 "nbformat_minor": 5
}
